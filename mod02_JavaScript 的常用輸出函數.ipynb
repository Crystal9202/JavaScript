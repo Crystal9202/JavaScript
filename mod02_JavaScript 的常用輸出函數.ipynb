{
 "cells": [
  {
   "cell_type": "markdown",
   "id": "0b0f7c08",
   "metadata": {},
   "source": [
    "<h1>JavaScript輸出</h1>"
   ]
  },
  {
   "cell_type": "raw",
   "id": "9148796b",
   "metadata": {},
   "source": [
    "JavaScript 沒有任何打印或輸出的函數。"
   ]
  },
  {
   "cell_type": "markdown",
   "id": "8c9c6fae",
   "metadata": {},
   "source": [
    "<h1>JavaScript 顯示數據 </h1>"
   ]
  },
  {
   "cell_type": "raw",
   "id": "ed2734d0",
   "metadata": {},
   "source": [
    "JavaScript 可以通過不同的方式來輸出數據 : \n",
    "    - 使用 window.alert() 彈出警示框 ;\n",
    "    - 使用 document.write() 方法將內容寫道 HTML 文檔中 。\n",
    "    - 使用 innerHTML 寫入到 HTML 元素 。\n",
    "    - 使用 console.log() 寫入到瀏覽器的控制台"
   ]
  },
  {
   "cell_type": "markdown",
   "id": "138173bb",
   "metadata": {},
   "source": [
    "<h1>使用 window.alert()</h1>"
   ]
  },
  {
   "cell_type": "raw",
   "id": "3baab31d",
   "metadata": {},
   "source": [
    "你可以彈出警告框來顯示數據 : "
   ]
  },
  {
   "cell_type": "code",
   "execution_count": null,
   "id": "8004d639",
   "metadata": {},
   "outputs": [],
   "source": [
    "<!DOCTYPE html>\n",
    "<html>\n",
    "<head>\n",
    "<meta charset=\"utf-8\">\n",
    "<title>菜鸟教程(runoob.com)</title>\n",
    "</head>\n",
    "<body>\n",
    "\n",
    "    <h1>我的第一個頁面</h1>\n",
    "    <p>我的第一個段落</p>\n",
    "\n",
    "<script>\n",
    "    window.alert( 5 + 6 );\n",
    "</script>\n",
    "\n",
    "</body>\n",
    "</html>"
   ]
  },
  {
   "cell_type": "markdown",
   "id": "a341c107",
   "metadata": {},
   "source": [
    "<h1>操作 HTML 元素</h1>"
   ]
  },
  {
   "cell_type": "raw",
   "id": "b73d85f3",
   "metadata": {},
   "source": [
    "如需從 JavaScript 訪問某個元素 ，您可以使用 document.getElementById(id) 方法。請使用 \"id\" 屬性來標識 HTML 元素，並 innerHTML 來獲取或插入元素內容:"
   ]
  },
  {
   "cell_type": "code",
   "execution_count": null,
   "id": "9f089e67",
   "metadata": {},
   "outputs": [],
   "source": [
    "<!DOCTYPE html>\n",
    "<html>\n",
    "<head> \n",
    "<meta charset=\"utf-8\"> \n",
    "<title>菜鸟教程(runoob.com)</title> \n",
    "</head>\n",
    "<body>\n",
    "\n",
    "    <h1>我的第一個Web頁面</h1>\n",
    "\n",
    "    <p id=\"demo\">我的第一個段落</p>\n",
    "\n",
    "    <script>\n",
    "        document.getElementById(\"demo\").innerHTML = \"段落已修改\" ;\n",
    "    </script>\n",
    "\n",
    "</body>\n",
    "</html>"
   ]
  },
  {
   "cell_type": "raw",
   "id": "35168ff3",
   "metadata": {},
   "source": [
    "以上 JavaScript 語句(在<script> 標簽中) 可以在 web 瀏覽器中執行 : document.getElementById(\"demo\") 是使用 id 屬性來查找 HTML 元素的 JavaScript 代碼。   innerHTML = \"段落已修改\" 是用於修改元素的 HTML 內容(innerHTML) 的 JavaScript 代碼。"
   ]
  },
  {
   "cell_type": "raw",
   "id": "bbb7c17a",
   "metadata": {},
   "source": [
    "在大多數情況下，在本教程中，我們將使用上面描述的方法來輸出: 上面的例子直接把 id=\"demo\" 的 <p> 元素寫到 HTML 文檔輸出中"
   ]
  },
  {
   "cell_type": "markdown",
   "id": "ab61e545",
   "metadata": {},
   "source": [
    "<h1>寫到 HTML 文檔</h1>"
   ]
  },
  {
   "cell_type": "raw",
   "id": "3f59820f",
   "metadata": {},
   "source": [
    "出於測試目的，您可以將JavaScript 直接寫在 HTML 文檔中:"
   ]
  },
  {
   "cell_type": "code",
   "execution_count": null,
   "id": "40d3bc45",
   "metadata": {},
   "outputs": [],
   "source": [
    "<!DOCTYPE html>\n",
    "<html>\n",
    " \n",
    "<head>\n",
    "    <meta charset=\"utf-8\">\n",
    "    <title>菜鳥教程</title>\n",
    "</head>\n",
    "\n",
    "<body>\n",
    "    <h1>我的第一個 Web頁面</h1>\n",
    "    <p>我的第一個段落。</p>\n",
    "\n",
    "    <script>\n",
    "        document.write(Date());\n",
    "    </script>\n",
    "</body>\n",
    "</html>"
   ]
  },
  {
   "cell_type": "raw",
   "id": "969c9d34",
   "metadata": {},
   "source": [
    "請使用 document.write() 僅僅向文檔輸出寫內容。如果在文檔已完成加載後執行 document.write ，整個 HTML 頁面將被覆蓋"
   ]
  },
  {
   "cell_type": "code",
   "execution_count": null,
   "id": "62c0b967",
   "metadata": {},
   "outputs": [],
   "source": [
    "<!DOCTYPE html>\n",
    "<html>\n",
    "<head> \n",
    "<meta charset=\"utf-8\"> \n",
    "<title>菜鸟教程(runoob.com)</title> \n",
    "</head>\n",
    "<body>\n",
    "\n",
    "    <h1>我的第一個Web頁面</h1>\n",
    "    <p >我的第一個段落</p>\n",
    "    <button type=\"button\" onclick=\"myFunction()\">點我</button>\n",
    "\n",
    "<script>\n",
    "        function myFunction(){\n",
    "            document.write(Date());\n",
    "        }\n",
    "</script>\n",
    "\n",
    "</body>\n",
    "</html>"
   ]
  },
  {
   "cell_type": "markdown",
   "id": "fdb58fd5",
   "metadata": {},
   "source": [
    "<h1>寫到控制台</h1>"
   ]
  },
  {
   "cell_type": "raw",
   "id": "4fa60df1",
   "metadata": {},
   "source": [
    "如果您的瀏覽器支持調試，你可以使用 console.log() 方法在瀏覽器中顯示 JavaScript 值，瀏覽器中使用 F12 來啟用調試模式，再調試窗口中點擊 \"Console\" 菜單"
   ]
  },
  {
   "cell_type": "code",
   "execution_count": null,
   "id": "a1334cb7",
   "metadata": {},
   "outputs": [],
   "source": [
    "<!DOCTYPE html>\n",
    "<html>\n",
    "<head> \n",
    "<meta charset=\"utf-8\"> \n",
    "<title>菜鸟教程(runoob.com)</title> \n",
    "</head>\n",
    "<body>\n",
    "\n",
    "    <h1>我的第一個 Web 頁面</h1>\n",
    "    <p>瀏覽器中(Chrome , IE , Firefox) 使用 F12 來啟用調試模式，在調試窗口中點擊\"Console\"菜單</p>\n",
    "\n",
    "<script>\n",
    "    a = 5 ;\n",
    "    b = 6 ;\n",
    "    c = a + b ;\n",
    "    console.log(c);\n",
    "</script>\n",
    "\n",
    "</body>\n",
    "</html>"
   ]
  },
  {
   "cell_type": "markdown",
   "id": "29825eb9",
   "metadata": {},
   "source": [
    "<h1>筆記</h1>"
   ]
  },
  {
   "cell_type": "markdown",
   "id": "5a918650",
   "metadata": {},
   "source": [
    "<h2>console.log()的用處</h2>"
   ]
  },
  {
   "cell_type": "raw",
   "id": "0575a5d8",
   "metadata": {},
   "source": [
    "主要是方便你調試 javaScript 用的，你可以看到你在頁面中輸出的內容，相比 alert 他的優點是:                                               他能看到結構化的東西，如果是 alert ，彈出一個對象就是 [object object] ,但是 console 能看到對像的內容。console 不會打斷你頁面的操作，如果用alert 彈出來內容，那麼頁面就死了。但是 console 輸出內容後你頁面還可以正常操作。"
   ]
  },
  {
   "cell_type": "markdown",
   "id": "74fa51c1",
   "metadata": {},
   "source": [
    "<h2>innerHTML 的好處</h2>"
   ]
  },
  {
   "cell_type": "raw",
   "id": "b57c3311",
   "metadata": {},
   "source": [
    "document.write 是直接寫入到頁面的內容流，如果在寫之前沒有調用document.open, 瀏覽器會自動調用open, 每次寫完關閉之後重新調用該函數,會導致頁面被重寫。innerHTML 則是 DOM 頁面元素的一個屬性，代表該元素的 html內容, 你可以精確到某一個具體的元素來進行更改。如果想修改document的內容，則需要修改 document.documentElement.innerElement 。\n",
    "\n",
    "innerHTML 很多情況下都優於 document.write , 其原因在於其允許更精確的控制要刷新頁面的那一個部分。"
   ]
  },
  {
   "cell_type": "markdown",
   "id": "234b70ec",
   "metadata": {},
   "source": [
    "<h2>DOM 解釋</h2>"
   ]
  },
  {
   "cell_type": "raw",
   "id": "0f0c000d",
   "metadata": {},
   "source": [
    "您會經常看到 document.getElementById(\"id\")。這個方法是 HTML DOM 中定義的。DOM(Document Object Model)(文檔對象模型) 是用於訪問 HTML元素得正式 W3C 標準。"
   ]
  }
 ],
 "metadata": {
  "kernelspec": {
   "display_name": "Python 3 (ipykernel)",
   "language": "python",
   "name": "python3"
  },
  "language_info": {
   "codemirror_mode": {
    "name": "ipython",
    "version": 3
   },
   "file_extension": ".py",
   "mimetype": "text/x-python",
   "name": "python",
   "nbconvert_exporter": "python",
   "pygments_lexer": "ipython3",
   "version": "3.10.4"
  }
 },
 "nbformat": 4,
 "nbformat_minor": 5
}
