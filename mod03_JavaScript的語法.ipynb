{
 "cells": [
  {
   "cell_type": "raw",
   "id": "b2ba28bd",
   "metadata": {},
   "source": [
    "JavaScript 是一個程序語言。語法規則定義了語言結構。"
   ]
  },
  {
   "cell_type": "markdown",
   "id": "90dea50b",
   "metadata": {},
   "source": [
    "<h1>JavaScript語法<h1>"
   ]
  },
  {
   "cell_type": "raw",
   "id": "1f970b15",
   "metadata": {},
   "source": [
    "Javascript 是一個腳本語言。她是一個輕量級，但功能強大的編程語言。"
   ]
  },
  {
   "cell_type": "markdown",
   "id": "9c5956f6",
   "metadata": {},
   "source": [
    "<h1>JavaScript 字面量</h1>"
   ]
  },
  {
   "cell_type": "raw",
   "id": "76c234c4",
   "metadata": {},
   "source": [
    "在編程語言中，一般固定值稱為字面量，如 3.14。數字（Number）字面量 可以是整數或者是小數，或者是科學計數 (e)。"
   ]
  },
  {
   "cell_type": "code",
   "execution_count": 1,
   "id": "750ca842",
   "metadata": {},
   "outputs": [
    {
     "ename": "SyntaxError",
     "evalue": "invalid syntax (Temp/ipykernel_46596/808808796.py, line 1)",
     "output_type": "error",
     "traceback": [
      "\u001b[1;36m  File \u001b[1;32m\"C:\\Users\\HOMEOF~1\\AppData\\Local\\Temp/ipykernel_46596/808808796.py\"\u001b[1;36m, line \u001b[1;32m1\u001b[0m\n\u001b[1;33m    <!DOCTYPE html>\u001b[0m\n\u001b[1;37m    ^\u001b[0m\n\u001b[1;31mSyntaxError\u001b[0m\u001b[1;31m:\u001b[0m invalid syntax\n"
     ]
    }
   ],
   "source": [
    "<!DOCTYPE html>\n",
    "<html>\n",
    "<head>\n",
    "<meta charset=\"utf-8\">\n",
    "<title>菜鳥教程(runoob.com)</title>\n",
    "</head>\n",
    "<body>\n",
    "\n",
    "<p id=\"demo\"></p>\n",
    "<script>\n",
    "document.getElementById(\"demo\").innerHTML = 123e5;\n",
    "</script>\n",
    "\n",
    "</body>\n",
    "</html>"
   ]
  },
  {
   "cell_type": "raw",
   "id": "ed5dacaf",
   "metadata": {},
   "source": [
    "字符串(string)字面量 可以使用單引號或雙引號"
   ]
  },
  {
   "cell_type": "code",
   "execution_count": null,
   "id": "7b5555c1",
   "metadata": {},
   "outputs": [],
   "source": [
    "<!DOCTYPE html>\n",
    "<html>\n",
    "<head>\n",
    "<meta charset=\"utf-8\">\n",
    "<title>菜鳥教程(runoob.com)</title>\n",
    "</head>\n",
    "<body>\n",
    "\n",
    "    <p id=\"demo\"></p>\n",
    "    <script>\n",
    "    document.getElementById(\"demo\").innerHTML = \"John Doe\";\n",
    "    </script>\n",
    "    \n",
    "</body>\n",
    "\n",
    "</html>"
   ]
  },
  {
   "cell_type": "raw",
   "id": "39c2d21f",
   "metadata": {},
   "source": [
    "表達式字面量  用於計算: "
   ]
  },
  {
   "cell_type": "code",
   "execution_count": null,
   "id": "d3d7053e",
   "metadata": {},
   "outputs": [],
   "source": [
    "<!DOCTYPE html>\n",
    "<html>\n",
    "<head>\n",
    "<meta charset=\"utf-8\">\n",
    "<title>菜鳥教程(runoob.com)</title>\n",
    "</head>\n",
    "<body>\n",
    "\n",
    "    <p id=\"demo\"></p>\n",
    "    <script>\n",
    "    document.getElementById(\"demo\").innerHTML = 5*10 ;\n",
    "    </script>\n",
    "    \n",
    "</body>\n",
    "\n",
    "</html>"
   ]
  },
  {
   "cell_type": "raw",
   "id": "3151a092",
   "metadata": {},
   "source": [
    "數組(Array)字面量  定義一個數組:"
   ]
  },
  {
   "cell_type": "raw",
   "id": "30247ef5",
   "metadata": {},
   "source": [
    "var scores = [40,100,1,5,25,10];"
   ]
  },
  {
   "cell_type": "raw",
   "id": "519d8d76",
   "metadata": {},
   "source": [
    "對象(Object)字面量  定義一個對象:"
   ]
  },
  {
   "cell_type": "code",
   "execution_count": null,
   "id": "f1d7bd3e",
   "metadata": {},
   "outputs": [],
   "source": [
    "{firstName: \"John\" , lastName: \"Doe\" , age: 50 , eyeColor: \"blue\"};"
   ]
  },
  {
   "cell_type": "raw",
   "id": "983f3c03",
   "metadata": {},
   "source": [
    "函數 (Function) 字面量  定義一個函數:"
   ]
  },
  {
   "cell_type": "code",
   "execution_count": null,
   "id": "b23dc2fb",
   "metadata": {},
   "outputs": [],
   "source": [
    "funtion myFunction(a,b){\n",
    "    return a*b ;\n",
    "}"
   ]
  },
  {
   "cell_type": "markdown",
   "id": "a558d222",
   "metadata": {},
   "source": [
    "<h1>JavaScript 變量</h1>"
   ]
  },
  {
   "cell_type": "raw",
   "id": "cc9ff1c6",
   "metadata": {},
   "source": [
    "在編程語言中，變量用於儲存數值。Javascript 使用關鍵字 var 來定義變量，使用等號來為變量賦值:"
   ]
  },
  {
   "cell_type": "code",
   "execution_count": null,
   "id": "3b9d5e85",
   "metadata": {},
   "outputs": [],
   "source": [
    "<!DOCTYPE html>\n",
    "<html>\n",
    "\n",
    "<head>\n",
    "    <meta charset=\"utf-8\">\n",
    "    <title>菜鳥教程</title>\n",
    "</head>\n",
    "\n",
    "<body>\n",
    "\n",
    "    <p id=\"demo\"></p>\n",
    "    <script>\n",
    "        var length;\n",
    "        length = 6;\n",
    "        document.getElementById(\"demo\").innerHTML = length ;\n",
    "    </script>\n",
    "\n",
    "</body>\n",
    "</html>"
   ]
  },
  {
   "cell_type": "raw",
   "id": "67a78d4c",
   "metadata": {},
   "source": [
    "變量可以通過變量名訪問。在指令語言中，變量通常是可變的。字面量是一個恆定的值。"
   ]
  },
  {
   "cell_type": "raw",
   "id": "8be0729d",
   "metadata": {},
   "source": [
    "注意:變量是一個名稱。字面量是一個值。"
   ]
  },
  {
   "cell_type": "markdown",
   "id": "4df980a7",
   "metadata": {},
   "source": [
    "<h1>JavaScript操作符</h1>"
   ]
  },
  {
   "cell_type": "code",
   "execution_count": null,
   "id": "514011be",
   "metadata": {},
   "outputs": [],
   "source": [
    "JavaScript使用 算術運算符 來計算值:"
   ]
  },
  {
   "cell_type": "code",
   "execution_count": null,
   "id": "c6e50266",
   "metadata": {},
   "outputs": [],
   "source": [
    "<!DOCTYPE html>\n",
    "<html>\n",
    "\n",
    "<head>\n",
    "    <meta charset=\"utf-8\">\n",
    "    <title>菜鳥教程</title>\n",
    "</head>\n",
    "\n",
    "<body>\n",
    "    <p id=\"demo\"></p>\n",
    "    <script>\n",
    "        document.getElementById(\"demo\").innerHTML = (5+6)*10 ;\n",
    "    </script>\n",
    "\n",
    "</body>\n",
    "</html>"
   ]
  },
  {
   "cell_type": "raw",
   "id": "4ec241c2",
   "metadata": {},
   "source": [
    "JavaScript使用 賦值運算符 給變量賦值: "
   ]
  },
  {
   "cell_type": "code",
   "execution_count": 2,
   "id": "e61868f2",
   "metadata": {},
   "outputs": [
    {
     "ename": "SyntaxError",
     "evalue": "invalid syntax (Temp/ipykernel_29364/1487770803.py, line 1)",
     "output_type": "error",
     "traceback": [
      "\u001b[1;36m  File \u001b[1;32m\"C:\\Users\\HOMEOF~1\\AppData\\Local\\Temp/ipykernel_29364/1487770803.py\"\u001b[1;36m, line \u001b[1;32m1\u001b[0m\n\u001b[1;33m    <!DOCTYPE html>\u001b[0m\n\u001b[1;37m    ^\u001b[0m\n\u001b[1;31mSyntaxError\u001b[0m\u001b[1;31m:\u001b[0m invalid syntax\n"
     ]
    }
   ],
   "source": [
    "<!DOCTYPE html>\n",
    "<html>\n",
    "\n",
    "<head>\n",
    "    <meta charset=\"utf-8\">\n",
    "    <title>菜鳥教程</title>\n",
    "</head>\n",
    "\n",
    "<body>\n",
    "    \n",
    "    <p id=\"demo\"></p>\n",
    "    <script>\n",
    "        var x ,y , z ;\n",
    "        x = 5;\n",
    "        y = 6;\n",
    "        z = (x+y) *10 ;\n",
    "        document.getElementById(\"demo\").innerHTML = z ;\n",
    "    </script>\n",
    "    \n",
    "</body>\n",
    "</html>"
   ]
  },
  {
   "cell_type": "raw",
   "id": "8c952396",
   "metadata": {},
   "source": [
    "JavaScript語言有多種類型的運算符:"
   ]
  },
  {
   "cell_type": "code",
   "execution_count": null,
   "id": "24cc0b4f",
   "metadata": {},
   "outputs": [],
   "source": [
    "類型                     實例                     描述\n",
    "\n",
    "賦值，算術和位運算符      =  +  -  *  /            在 JS 運算符中描述\n",
    "條件，比較及邏輯運算符    ==  != <  >               在 JS 比較運算符中描述"
   ]
  },
  {
   "cell_type": "markdown",
   "id": "38deb3d3",
   "metadata": {},
   "source": [
    "<h1>JavaScript語句</h1>"
   ]
  },
  {
   "cell_type": "raw",
   "id": "4aa4a141",
   "metadata": {},
   "source": [
    "在 HTML 中， JavaScript語句用於向瀏覽器發出命令。語句是用分號分隔:"
   ]
  },
  {
   "cell_type": "code",
   "execution_count": null,
   "id": "04638368",
   "metadata": {},
   "outputs": [],
   "source": [
    "x = 5 + 6;\n",
    "y = x * 10;"
   ]
  },
  {
   "cell_type": "markdown",
   "id": "405e4623",
   "metadata": {},
   "source": [
    "<h1>JavaScript關鍵字</h1>"
   ]
  },
  {
   "cell_type": "raw",
   "id": "35c5122f",
   "metadata": {},
   "source": [
    "JavaScript 關鍵字用於標識要執行的操作。和其他任何編程語言一樣，JavaScript 保留了一些關鍵字為自己所用。\n",
    "var 關鍵字告訴瀏覽器創建一個新的變量："
   ]
  },
  {
   "cell_type": "code",
   "execution_count": null,
   "id": "2e4ce993",
   "metadata": {},
   "outputs": [],
   "source": [
    "x = 5 + 6;\n",
    "y = x * 10;"
   ]
  },
  {
   "cell_type": "raw",
   "id": "428749ba",
   "metadata": {},
   "source": [
    "JavaScript 同樣保留了一些關鍵字，這些關鍵字在當前的語言版本中並沒有使用，但在以後 JavaScript 擴展中會用到。\n",
    "以下是 JavaScript 中最重要的保留關鍵字（按字母順序）："
   ]
  },
  {
   "cell_type": "raw",
   "id": "7eae07f9",
   "metadata": {},
   "source": [
    "abstract    else          instanceof    super\n",
    "boolean     enum          int           switch\n",
    "break       export        interface     synchronized\n",
    "byte        extends       let           this\n",
    "case        false         long          throw\n",
    "catch       final         native        throws\n",
    "char        finally       new           transient\n",
    "class       float         null          true\n",
    "const       for           package       try\n",
    "continue    function      private       typeof\n",
    "debugger    goto          protected     var\n",
    "default     if            public        void\n",
    "delete      implements    return        volatile\n",
    "do import   short         while\n",
    "double in   static        with"
   ]
  },
  {
   "cell_type": "markdown",
   "id": "e013d21f",
   "metadata": {},
   "source": [
    "<h1>JavaScript註釋</h1>"
   ]
  },
  {
   "cell_type": "raw",
   "id": "ef91093c",
   "metadata": {},
   "source": [
    "不是所有的JavaScript語句都是\"命令\"。 雙協槓 // 後的內容將會被瀏覽器忽略 :"
   ]
  },
  {
   "cell_type": "code",
   "execution_count": null,
   "id": "804cbbf8",
   "metadata": {},
   "outputs": [],
   "source": [
    "// 我不會執行\n",
    "/* 我也不會執行 */"
   ]
  },
  {
   "cell_type": "markdown",
   "id": "1329400c",
   "metadata": {},
   "source": [
    "<h1>JavaScript數據類型</h1>"
   ]
  },
  {
   "cell_type": "raw",
   "id": "7a67b4a5",
   "metadata": {},
   "source": [
    "JavaScript 有多種數據類型: 數字、字符串、數組、對象等等:"
   ]
  },
  {
   "cell_type": "code",
   "execution_count": null,
   "id": "a10c4e4c",
   "metadata": {},
   "outputs": [],
   "source": [
    "var length = 16;                                      //Number 通過數字字面量賦值\n",
    "var points = x * 10;                                  //Number 通過表達式字面量賦值\n",
    "var lastName = \"Johnson\";                             //String 通過字符串字面量賦值\n",
    "var cars = [\"Saab\" , \"Volvo\" , \"BMW\"]                 //Array  通過數組字面量賦值\n",
    "var person = {firstName:\"John\" , lastName:\"Doe\"};     //Object 通過對象字面量賦值"
   ]
  },
  {
   "cell_type": "markdown",
   "id": "20376781",
   "metadata": {},
   "source": [
    "<h1>數據類型的概念</h1>"
   ]
  },
  {
   "cell_type": "raw",
   "id": "d9fc8f68",
   "metadata": {},
   "source": [
    "編程語言中，數據類型是一個非常重要的內容。為了可以操作變量，了解數據類型的概念非常重要。\n",
    "如果沒有使用數據類型，以下實例將無法執行："
   ]
  },
  {
   "cell_type": "raw",
   "id": "142dd519",
   "metadata": {},
   "source": [
    "16 + \"Volvo\""
   ]
  },
  {
   "cell_type": "raw",
   "id": "21859063",
   "metadata": {},
   "source": [
    "16 加上 \"Volvo\" 是如何計算呢? 以上會產生一個錯誤還是輸出以下結果呢？"
   ]
  },
  {
   "cell_type": "raw",
   "id": "88f0a2b9",
   "metadata": {},
   "source": [
    "\"16Volvo\""
   ]
  },
  {
   "cell_type": "raw",
   "id": "995e3408",
   "metadata": {},
   "source": [
    "你可以在瀏覽器嘗試執行以上代碼查看效果。在接下來的章節中你將學到更多關於數據類型的知識。"
   ]
  },
  {
   "cell_type": "markdown",
   "id": "9d95a7a7",
   "metadata": {},
   "source": [
    "<h1>JavaScript函數</h1>"
   ]
  },
  {
   "cell_type": "raw",
   "id": "46d693a7",
   "metadata": {},
   "source": [
    "JavaScript 語句可以寫在函數內，函數可以重複引用: 引用一個函數 = 調用函數(執行函數內的語句)。"
   ]
  },
  {
   "cell_type": "code",
   "execution_count": null,
   "id": "8e12811b",
   "metadata": {},
   "outputs": [],
   "source": [
    "function myFunction(a , b){\n",
    "    return a * b ;                    // 返回 a 乘以 b 的結果 \n",
    "}"
   ]
  },
  {
   "cell_type": "markdown",
   "id": "e1fa119a",
   "metadata": {},
   "source": [
    "<h1>JavaScript字母大小寫</h1>"
   ]
  },
  {
   "cell_type": "raw",
   "id": "254ff2d1",
   "metadata": {},
   "source": [
    "JavaScript 對大小寫是敏感的。當編寫 JavaScript 語句時，請留意是否關閉大小寫切換鍵。\n",
    "函數 getElementById 與 getElementbyID 是不同的。\n",
    "同樣，變量 myVariable 與 MyVariable也是不同的。"
   ]
  },
  {
   "cell_type": "markdown",
   "id": "a2099027",
   "metadata": {},
   "source": [
    "<h1>JavaScript字符集</h1>"
   ]
  },
  {
   "cell_type": "raw",
   "id": "32c8adef",
   "metadata": {},
   "source": [
    "JavaScript 使用 Unicode 字符集。 Unicode 覆蓋了所有的字符，包含標點等字符。\n",
    "如需進一步了解，請學習我們的 完整 Unicode 參考手冊。"
   ]
  },
  {
   "cell_type": "raw",
   "id": "8ae51b7f",
   "metadata": {},
   "source": [
    "注意: JavaScript中 ，常見的駝峰法的命名規則，如 lastName(而不是lastname)。"
   ]
  }
 ],
 "metadata": {
  "kernelspec": {
   "display_name": "Python 3 (ipykernel)",
   "language": "python",
   "name": "python3"
  },
  "language_info": {
   "codemirror_mode": {
    "name": "ipython",
    "version": 3
   },
   "file_extension": ".py",
   "mimetype": "text/x-python",
   "name": "python",
   "nbconvert_exporter": "python",
   "pygments_lexer": "ipython3",
   "version": "3.10.4"
  }
 },
 "nbformat": 4,
 "nbformat_minor": 5
}
