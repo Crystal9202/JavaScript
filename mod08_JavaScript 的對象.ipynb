{
 "cells": [
  {
   "cell_type": "markdown",
   "id": "57203d7e",
   "metadata": {},
   "source": [
    "# JavaScript 對象"
   ]
  },
  {
   "cell_type": "raw",
   "id": "612b388b",
   "metadata": {},
   "source": [
    "JavaScript 對象是擁有屬性和方法的數據。"
   ]
  },
  {
   "cell_type": "markdown",
   "id": "ee8a6324",
   "metadata": {},
   "source": [
    "# 真實生活中的對象，屬性和方法"
   ]
  },
  {
   "cell_type": "raw",
   "id": "1925c876",
   "metadata": {},
   "source": [
    "真實生活中，一輛汽車是一個對象。對象有它的屬性，如重量和顏色等，方法有啟動停止等:"
   ]
  },
  {
   "attachments": {
    "objectExplained.gif": {
     "image/gif": "[encoded data removed]"
    }
   },
   "cell_type": "markdown",
   "id": "248b118a",
   "metadata": {},
   "source": [
    "![objectExplained.gif](attachment:objectExplained.gif)"
   ]
  },
  {
   "cell_type": "raw",
   "id": "a0449308",
   "metadata": {},
   "source": [
    "屬性                              方法\n",
    "\n",
    "car.name = Fiat                   car.start()\n",
    "car.model = 500                   car.drive()\n",
    "car.weight = 850kg                car.brake()\n",
    "car.color = white                 car.stop()"
   ]
  },
  {
   "cell_type": "code",
   "execution_count": null,
   "id": "4c23a74d",
   "metadata": {},
   "outputs": [],
   "source": [
    "所有汽車都有這些屬性，但是每款車的屬性都不盡相同。\n",
    "所有汽車都擁有這些方法，但是它們被執行的時間都不盡相同。"
   ]
  },
  {
   "cell_type": "markdown",
   "id": "05be4c6b",
   "metadata": {},
   "source": [
    "# JavaScript 對象"
   ]
  },
  {
   "cell_type": "raw",
   "id": "924fef9d",
   "metadata": {},
   "source": [
    "在 JavaScript 中，幾乎所有的事物都是對象。"
   ]
  },
  {
   "cell_type": "raw",
   "id": "4e4fc130",
   "metadata": {},
   "source": [
    "在 JavaScript 中，對像是非常重要的，當你理解了對象，就可以了解 JavaScript 。"
   ]
  },
  {
   "cell_type": "code",
   "execution_count": null,
   "id": "5cbf1e34",
   "metadata": {},
   "outputs": [],
   "source": [
    "你已經學習了 JavaScript 變量的賦值。以下代碼為變量 car 設置值為 \"Fiat\":"
   ]
  },
  {
   "cell_type": "code",
   "execution_count": null,
   "id": "638f11f5",
   "metadata": {},
   "outputs": [],
   "source": [
    "var car = \"Fiat\";"
   ]
  },
  {
   "cell_type": "raw",
   "id": "895ca61d",
   "metadata": {},
   "source": [
    "對像也是一個變量，但對象可以包含多個值（多個變量），每個值以 name:value 對呈現。"
   ]
  },
  {
   "cell_type": "code",
   "execution_count": null,
   "id": "619e52b1",
   "metadata": {},
   "outputs": [],
   "source": [
    "var car = {name: \"Fait\" , model:500 , color :\"white\"};"
   ]
  },
  {
   "cell_type": "code",
   "execution_count": null,
   "id": "f63d9428",
   "metadata": {},
   "outputs": [],
   "source": [
    "在以上實例中，3個值(\"Fait\" , 500 \"white\")賦予變量  car"
   ]
  },
  {
   "cell_type": "markdown",
   "id": "8592a2e0",
   "metadata": {},
   "source": [
    "注意: JavaScript 對像是變量的容器。"
   ]
  },
  {
   "cell_type": "markdown",
   "id": "b7d24083",
   "metadata": {},
   "source": [
    "# 對象定義"
   ]
  },
  {
   "cell_type": "code",
   "execution_count": null,
   "id": "2e4cc261",
   "metadata": {},
   "outputs": [],
   "source": [
    "你可以使用字符來定義和創建 JavaScript 對象:"
   ]
  },
  {
   "cell_type": "code",
   "execution_count": null,
   "id": "4cb86b0d",
   "metadata": {},
   "outputs": [],
   "source": [
    "<!DOCTYPE html>\n",
    "<html>\n",
    "\n",
    "<head>\n",
    "    <meta charset=\"utf-8\">\n",
    "    <title>菜鳥教程</title>\n",
    "</head>\n",
    "\n",
    "<body>\n",
    "\n",
    "    <p>創建 JavaScript 對象</p>\n",
    "    <p id=\"demo\"></p>\n",
    "    <script>\n",
    "        var person = {firstname: \"John\" , lastName :\"Doe\" , age:\"50\" , eyecolor: \"blue\"};\n",
    "        document.getElementById(\"demo\").innerHTML = \n",
    "            person.firstname + \"現在\" + person.age + \"歲.\" ;\n",
    "    </script>\n",
    "    \n",
    "</body>\n",
    "</html>"
   ]
  },
  {
   "cell_type": "code",
   "execution_count": null,
   "id": "7444f67e",
   "metadata": {},
   "outputs": [],
   "source": [
    "定義 JavaScript 對象可以跨越多行，空格跟換行不是必須的:"
   ]
  },
  {
   "cell_type": "code",
   "execution_count": null,
   "id": "28a45f75",
   "metadata": {},
   "outputs": [],
   "source": [
    "<!DOCTYPE html>\n",
    "<html>\n",
    "\n",
    "<head>\n",
    "    <meta charset=\"utf-8\">\n",
    "    <title>菜鳥教程</title>\n",
    "</head>\n",
    "\n",
    "<body>\n",
    "\n",
    "    <p>創建 JavaScript 對象。</p>\n",
    "    <p id=\"demo\"></p>\n",
    "    <script>\n",
    "        var person = { \n",
    "            firstname : \"John\" ,\n",
    "            lastName : \"Doe\",\n",
    "            age : 50 , \n",
    "            eyecolor : \"blue\"\n",
    "        };\n",
    "        document.getElementById(\"demo\").innerHTML =\n",
    "            person.firstName + \" 現在 \" + person.age + \" 歲.\";\n",
    "    </script>\n",
    "\n",
    "</body>\n",
    "\n",
    "</html>"
   ]
  },
  {
   "cell_type": "markdown",
   "id": "c2ec132b",
   "metadata": {},
   "source": [
    "# 對象屬性"
   ]
  },
  {
   "cell_type": "code",
   "execution_count": null,
   "id": "2d8c5e1b",
   "metadata": {},
   "outputs": [],
   "source": [
    "可以說 \"JavaScript 對像是變量的容器\"。但是，我們通常認為 \"JavaScript 對像是鍵值對的容器\"。鍵值對通常寫法為 name : value \n",
    "    (鍵與值以冒號分割)。鍵值對在 JavaScript 對象通常稱為 對象屬性。"
   ]
  },
  {
   "cell_type": "code",
   "execution_count": null,
   "id": "4a82dfa9",
   "metadata": {},
   "outputs": [],
   "source": [
    "Note: JavaScript 對像是屬性變量的容器。"
   ]
  },
  {
   "cell_type": "code",
   "execution_count": null,
   "id": "f54fc58e",
   "metadata": {},
   "outputs": [],
   "source": [
    "對象鍵值對的寫法類似於：\n",
    "\n",
    "PHP 中的關係數組\n",
    "Python 中的字典\n",
    "C 語言中的哈希表\n",
    "Java 中的哈希映射\n",
    "Ruby 和 Perl 中的哈希表"
   ]
  },
  {
   "cell_type": "markdown",
   "id": "9f7961de",
   "metadata": {},
   "source": [
    "# 訪問對象屬性"
   ]
  },
  {
   "cell_type": "code",
   "execution_count": null,
   "id": "2cbcee4f",
   "metadata": {},
   "outputs": [],
   "source": [
    "你可以通過兩種方式訪問對象屬性:"
   ]
  },
  {
   "cell_type": "code",
   "execution_count": null,
   "id": "b94564b4",
   "metadata": {},
   "outputs": [],
   "source": [
    "<!DOCTYPE html>\n",
    "<html>\n",
    "\n",
    "<head>\n",
    "    <meta charset=\"utf-8\">\n",
    "    <title>菜鳥教程</title>\n",
    "</head>\n",
    "\n",
    "<body>\n",
    "\n",
    "    <p>\n",
    "        有兩種方式可以訪問對象屬性：\n",
    "    </p>\n",
    "    <p>\n",
    "        你可以使用 .property 或 [\"property\"].\n",
    "    </p>\n",
    "    <p id=\"demo\"></p>\n",
    "    <script>\n",
    "        var person = {\n",
    "            firstName: \"John\",\n",
    "            lastName: \"Doe\",\n",
    "            id: 5566\n",
    "        };\n",
    "        document.getElementById(\"demo\").innerHTML =\n",
    "            person.firstName + \" \" + person.lastName;\n",
    "    </script>\n",
    "\n",
    "</body>\n",
    "\n",
    "</html>"
   ]
  },
  {
   "cell_type": "code",
   "execution_count": null,
   "id": "5c9fc6d9",
   "metadata": {},
   "outputs": [],
   "source": [
    "<!DOCTYPE html>\n",
    "<html>\n",
    "\n",
    "<head>\n",
    "    <meta charset=\"utf-8\">\n",
    "    <title>菜鳥教程</title>\n",
    "</head>\n",
    "\n",
    "<body>\n",
    "\n",
    "    <p>\n",
    "        有兩種方式可以訪問對象屬性：\n",
    "    </p>\n",
    "    <p>\n",
    "        你可以使用 .property 或 [\"property\"].\n",
    "    </p>\n",
    "    <p id=\"demo\"></p>\n",
    "    <script>\n",
    "        var person = {\n",
    "            firstName: \"John\",\n",
    "            lastName: \"Doe\",\n",
    "            id: 5566\n",
    "        };\n",
    "        document.getElementById(\"demo\").innerHTML =\n",
    "            person[\"firstName\"] + \" \" + person[\"lastName\"];\n",
    "    </script>\n",
    "\n",
    "</body>\n",
    "\n",
    "</html>"
   ]
  }
 ],
 "metadata": {
  "kernelspec": {
   "display_name": "Python 3 (ipykernel)",
   "language": "python",
   "name": "python3"
  },
  "language_info": {
   "codemirror_mode": {
    "name": "ipython",
    "version": 3
   },
   "file_extension": ".py",
   "mimetype": "text/x-python",
   "name": "python",
   "nbconvert_exporter": "python",
   "pygments_lexer": "ipython3",
   "version": "3.10.4"
  }
 },
 "nbformat": 4,
 "nbformat_minor": 5
}
