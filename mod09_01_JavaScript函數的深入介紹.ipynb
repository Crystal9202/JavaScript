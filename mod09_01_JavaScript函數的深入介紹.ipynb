{
 "cells": [
  {
   "cell_type": "markdown",
   "id": "74c8c62f",
   "metadata": {},
   "source": [
    "# JavaScript 函數定義"
   ]
  },
  {
   "cell_type": "code",
   "execution_count": null,
   "id": "05c04a8e",
   "metadata": {},
   "outputs": [],
   "source": [
    "JavaScript 使用關鍵字 function 定義函數。 函數可以通過聲明定義，也可以是一個表達式。"
   ]
  },
  {
   "cell_type": "markdown",
   "id": "25b16fe8",
   "metadata": {},
   "source": [
    "## 方法一:函數聲明"
   ]
  },
  {
   "cell_type": "code",
   "execution_count": null,
   "id": "24a7bfc4",
   "metadata": {},
   "outputs": [],
   "source": [
    "在之前的教程中，你已經了解了函數聲明的語法 :"
   ]
  },
  {
   "cell_type": "code",
   "execution_count": null,
   "id": "d8875506",
   "metadata": {},
   "outputs": [],
   "source": [
    "function functionName(parameters){\n",
    "    執行的代碼\n",
    "}"
   ]
  },
  {
   "cell_type": "raw",
   "id": "775542c3",
   "metadata": {},
   "source": [
    "函數聲明後不會立即執行，會在我們需要的時候調用到。"
   ]
  },
  {
   "cell_type": "code",
   "execution_count": null,
   "id": "b266adfa",
   "metadata": {},
   "outputs": [],
   "source": [
    "範例:"
   ]
  },
  {
   "cell_type": "code",
   "execution_count": null,
   "id": "d9449b95",
   "metadata": {},
   "outputs": [],
   "source": [
    "function myFunction(a,b){\n",
    "    return a * b ;\n",
    "}"
   ]
  },
  {
   "cell_type": "code",
   "execution_count": null,
   "id": "fb90008f",
   "metadata": {},
   "outputs": [],
   "source": [
    "分號是用來分隔可執行 JavaScript 語句。由於函數聲明不是一個可執行語句，所以不以分號結束。"
   ]
  },
  {
   "cell_type": "markdown",
   "id": "fc83cae5",
   "metadata": {},
   "source": [
    "## 方法二:函數表達式"
   ]
  },
  {
   "cell_type": "code",
   "execution_count": null,
   "id": "ce065300",
   "metadata": {},
   "outputs": [],
   "source": [
    "JavaScript 函數可以通過一個表達式定義。函數表達式可以存儲在變量中:"
   ]
  },
  {
   "cell_type": "code",
   "execution_count": null,
   "id": "0a092a98",
   "metadata": {},
   "outputs": [],
   "source": [
    "var x = function( a , b ){ return a *b };"
   ]
  },
  {
   "cell_type": "code",
   "execution_count": null,
   "id": "38f2218a",
   "metadata": {},
   "outputs": [],
   "source": [
    "在函數表達式存儲在變量後，變量也可作為一個函數使用:"
   ]
  },
  {
   "cell_type": "code",
   "execution_count": null,
   "id": "3b009c20",
   "metadata": {},
   "outputs": [],
   "source": [
    "var x = function(a , b) {return a*b };\n",
    "var x =x(4,3);"
   ]
  },
  {
   "cell_type": "code",
   "execution_count": null,
   "id": "d3972a04",
   "metadata": {},
   "outputs": [],
   "source": [
    "以上函數實際上是一個 匿名函數 (函數沒有名稱)。函數存儲在變量中，不需要函數名稱，通常通過變量名來調用。\n",
    "上述函數以分號結尾，因為他是個一個執行語句。"
   ]
  },
  {
   "cell_type": "markdown",
   "id": "7fef4a13",
   "metadata": {},
   "source": [
    "## 方法三:Function()構造函數"
   ]
  },
  {
   "cell_type": "code",
   "execution_count": null,
   "id": "50703e37",
   "metadata": {},
   "outputs": [],
   "source": [
    "在以上實例中，我們了解到函數通過關鍵字 function 定義。函數同樣可以通過內置的 JavaScript函數構造器(Function())定義。"
   ]
  },
  {
   "cell_type": "code",
   "execution_count": null,
   "id": "1498bb23",
   "metadata": {},
   "outputs": [],
   "source": [
    "var myFunction = new Function(\"a\" , \"b\" , \"return a * b\");\n",
    "var x = myFunction(4,3);"
   ]
  },
  {
   "cell_type": "code",
   "execution_count": null,
   "id": "4b6a76c4",
   "metadata": {},
   "outputs": [],
   "source": [
    "實際上，你不必使用構造函數。上面實例可以寫成:"
   ]
  },
  {
   "cell_type": "code",
   "execution_count": null,
   "id": "22d8f4a4",
   "metadata": {},
   "outputs": [],
   "source": [
    "var myFunction = function (a,b) {return a *b};\n",
    "var x = myFunction(4,3);"
   ]
  },
  {
   "cell_type": "code",
   "execution_count": null,
   "id": "173ce6be",
   "metadata": {},
   "outputs": [],
   "source": [
    "在 JavaScript 中，很多時候，你需要避免使用 new 關鍵字。"
   ]
  }
 ],
 "metadata": {
  "kernelspec": {
   "display_name": "Python 3 (ipykernel)",
   "language": "python",
   "name": "python3"
  },
  "language_info": {
   "codemirror_mode": {
    "name": "ipython",
    "version": 3
   },
   "file_extension": ".py",
   "mimetype": "text/x-python",
   "name": "python",
   "nbconvert_exporter": "python",
   "pygments_lexer": "ipython3",
   "version": "3.10.4"
  }
 },
 "nbformat": 4,
 "nbformat_minor": 5
}
