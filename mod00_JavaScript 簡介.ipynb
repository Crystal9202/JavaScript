{
 "cells": [
  {
   "cell_type": "markdown",
   "id": "6906f89b",
   "metadata": {},
   "source": [
    "<h1>JavaScript 簡介</h1>"
   ]
  },
  {
   "cell_type": "raw",
   "id": "810ce3f7",
   "metadata": {},
   "source": [
    "JavaScript 是互聯網上最流行的腳本語言，這門語言可用於 HTML 和 web，更可廣泛用於服務器、PC、筆記本電腦、平板電腦和智能手機等設備。"
   ]
  },
  {
   "cell_type": "markdown",
   "id": "e39fdcfe",
   "metadata": {},
   "source": [
    "<h1>JavaScript 是腳本語言</h1>"
   ]
  },
  {
   "cell_type": "raw",
   "id": "f7f40001",
   "metadata": {},
   "source": [
    "JavaScript 是一種輕量級的編程語言。\n",
    "JavaScript 是可插入 HTML 頁面的編程代碼。\n",
    "JavaScript 插入 HTML 頁面後，可由所有的現代瀏覽器執行。\n",
    "JavaScript 很容易學習。"
   ]
  },
  {
   "cell_type": "markdown",
   "id": "a7de37ef",
   "metadata": {},
   "source": [
    "<h1>您將學到什麽</h1>"
   ]
  },
  {
   "cell_type": "raw",
   "id": "89c16f74",
   "metadata": {},
   "source": [
    "下面是您將在本教程中學到的主要內容。"
   ]
  },
  {
   "cell_type": "markdown",
   "id": "ba30c8aa",
   "metadata": {},
   "source": [
    "JavaScript：直接寫入 HTML 輸出流"
   ]
  },
  {
   "cell_type": "markdown",
   "id": "f434d82a",
   "metadata": {},
   "source": [
    "<!DOCTYPE html>\n",
    "<html>\n",
    "<head>\n",
    "    <meta charset=\"utf-8\">\n",
    "    <title>菜鳥教程</title>\n",
    "</head>\n",
    "\n",
    "<body>\n",
    "\n",
    "    <p>\n",
    "        JavaScript能直接寫入 HTML 輸出流中:\n",
    "    </p>\n",
    "    <script>\n",
    "        document.write(\"<h1>這是一個標題</h1>\");\n",
    "        document.write(\"<p>這是一個段落</p>\");\n",
    "    </script>\n",
    "\n",
    "    <p>\n",
    "        您只能在 HTML 輸出流中使用 <strong>document.write</strong> ,\n",
    "        如果您在文檔已加載後使用它(比如在函數中),會覆蓋整個文檔 \n",
    "    </p>\n",
    "\n",
    "</body>\n",
    "</html>"
   ]
  },
  {
   "cell_type": "markdown",
   "id": "59d4def6",
   "metadata": {},
   "source": [
    "<h1>JavaScript : 對事件的反應 </h1>"
   ]
  },
  {
   "cell_type": "raw",
   "id": "1bba7410",
   "metadata": {},
   "source": [
    "alert() 函數在 JavaScript 中並不常用，但它對於代碼測試非常方便。\n",
    "onclick 事件只是您即將在本教程中學到的眾多事件之一。"
   ]
  },
  {
   "cell_type": "markdown",
   "id": "0125c02c",
   "metadata": {},
   "source": [
    "<!DOCTYPE html>\n",
    "<html>\n",
    "<head>\n",
    "    <meta charset=\"utf-8\">\n",
    "    <title>菜鳥教程</title>\n",
    "</head>\n",
    "<body>\n",
    "    <h1>我的第一個JavaScript</h1>\n",
    "    <p>\n",
    "        JavaScript能夠對事件做出反應，比如對按鈕的點擊 : \n",
    "    </p>\n",
    "    <button type=\"button\" onclick=alert(\"歡迎\")>點我!</button>\n",
    "</body>\n",
    "</html>"
   ]
  },
  {
   "cell_type": "markdown",
   "id": "00a389c3",
   "metadata": {},
   "source": [
    "<h1>JavaScript : 改變 HTML 內容</h1>"
   ]
  },
  {
   "cell_type": "raw",
   "id": "7019790f",
   "metadata": {},
   "source": [
    "使用 JavaScript 來處理 HTML 內容是非常強大的功能"
   ]
  },
  {
   "cell_type": "code",
   "execution_count": null,
   "id": "68334537",
   "metadata": {},
   "outputs": [],
   "source": [
    "您會經常看到 document.getElementById(\"some id\") ，這是方法是HTML DOM 中定義的。DOM (Document Object Model)（文檔對象模型）是用於訪問 HTML 元素的正式 W3C 標準。您將在本教程的多個章節中學到有關 HTML DOM 的知識。"
   ]
  }
 ],
 "metadata": {
  "kernelspec": {
   "display_name": "Python 3 (ipykernel)",
   "language": "python",
   "name": "python3"
  },
  "language_info": {
   "codemirror_mode": {
    "name": "ipython",
    "version": 3
   },
   "file_extension": ".py",
   "mimetype": "text/x-python",
   "name": "python",
   "nbconvert_exporter": "python",
   "pygments_lexer": "ipython3",
   "version": "3.10.4"
  }
 },
 "nbformat": 4,
 "nbformat_minor": 5
}
