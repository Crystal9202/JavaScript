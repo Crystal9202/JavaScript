{
 "cells": [
  {
   "cell_type": "raw",
   "id": "4c94947f",
   "metadata": {},
   "source": [
    "JavaScript 註釋可用於提高代碼的可能性。"
   ]
  },
  {
   "cell_type": "markdown",
   "id": "9a52e5f2",
   "metadata": {},
   "source": [
    "# JavaScript 註釋"
   ]
  },
  {
   "cell_type": "raw",
   "id": "bde7002c",
   "metadata": {},
   "source": [
    "JavaScript 不會執行註釋，我們可以添加註釋來對 JavaScript進行解釋，或者提高代碼的可讀性。單行註釋 以 // 開頭。\n",
    "本例用單行註釋來解釋代碼 : "
   ]
  },
  {
   "cell_type": "code",
   "execution_count": null,
   "id": "83923ae3",
   "metadata": {},
   "outputs": [],
   "source": [
    "<!DOCTYPE html>\n",
    "<html>\n",
    "\n",
    "<head>\n",
    "    <meta charset=\"utf-8\">\n",
    "    <title>菜鳥教程</title>\n",
    "</head>\n",
    "\n",
    "<body>\n",
    "\n",
    "    <h1 id=\"myH1\"></h1>\n",
    "    <p id=\"myP\"></p>\n",
    "    <script>\n",
    "        // 輸出標題：\n",
    "        document.getElementById(\"myH1\").innerHTML = \"Welcome to my Homepage\";\n",
    "        // 輸出段落：\n",
    "        document.getElementById(\"myP\").innerHTML = \"This is my first paragraph.\";\n",
    "    </script>\n",
    "    <p><b>註釋：</b>註釋不會被執行。</p>\n",
    "\n",
    "</body>\n",
    "\n",
    "</html>"
   ]
  },
  {
   "cell_type": "markdown",
   "id": "56fdbf75",
   "metadata": {},
   "source": [
    "# JavaScript 多行註釋"
   ]
  },
  {
   "cell_type": "markdown",
   "id": "cd9c7bf1",
   "metadata": {},
   "source": [
    "多行註釋以 /* 開始 ， 以 */ 結尾。下面的例子使用多行註釋來解釋代碼: "
   ]
  },
  {
   "cell_type": "code",
   "execution_count": null,
   "id": "b58af4c0",
   "metadata": {},
   "outputs": [],
   "source": [
    "<!DOCTYPE html>\n",
    "<html>\n",
    "\n",
    "<head>\n",
    "    <title>菜鳥教程測試實例</title>\n",
    "    <meta charset=\"utf-8\">\n",
    "</head>\n",
    "\n",
    "<body>\n",
    "\n",
    "    <h1 id=\"myH1\"></h1>\n",
    "    <p id=\"myP\"></p>\n",
    "    <script>\n",
    "        /*\n",
    "        下面的這些代碼會輸出\n",
    "        一個標題和一個段落\n",
    "        並將代表主頁的開始\n",
    "        */\n",
    "        document.getElementById(\"myH1\").innerHTML = \"歡迎來到菜鳥教程\";\n",
    "        document.getElementById(\"myP\").innerHTML = \"這是一個段落。\";\n",
    "    </script>\n",
    "    <p><b>註釋：</b>註釋塊不會被執行。</p>\n",
    "\n",
    "</body>\n",
    "\n",
    "</html>"
   ]
  },
  {
   "cell_type": "markdown",
   "id": "42c91ce1",
   "metadata": {},
   "source": [
    "# 使用註釋來阻止執行"
   ]
  },
  {
   "cell_type": "raw",
   "id": "3859eacd",
   "metadata": {},
   "source": [
    "在下面的例子中，註釋用於阻止其中一條代碼的執行(可用於調試): "
   ]
  },
  {
   "cell_type": "code",
   "execution_count": null,
   "id": "afd51c50",
   "metadata": {},
   "outputs": [],
   "source": [
    "<!DOCTYPE html>\n",
    "<html>\n",
    "\n",
    "<head>\n",
    "    <meta charset=\"utf-8\">\n",
    "    <title>菜鳥教程</title>\n",
    "</head>\n",
    "\n",
    "<body>\n",
    "\n",
    "    <h1 id=\"myH1\"></h1>\n",
    "    <p id=\"myP\"></p>\n",
    "    <script>\n",
    "        //document.getElementById(\"myH1\").innerHTML=\"歡迎來到我的主頁\";\n",
    "        document.getElementById(\"myP\").innerHTML = \"這是我的第一個段落。\";\n",
    "    </script>\n",
    "    <p><strong>註意:</strong> 註釋塊不會被執行</p>\n",
    "\n",
    "</body>\n",
    "\n",
    "</html>"
   ]
  },
  {
   "cell_type": "code",
   "execution_count": null,
   "id": "4b861311",
   "metadata": {},
   "outputs": [],
   "source": [
    "在下面的例子中，註釋用於阻止代碼塊的執行（可用於調試）："
   ]
  },
  {
   "cell_type": "code",
   "execution_count": null,
   "id": "2f1ecb15",
   "metadata": {},
   "outputs": [],
   "source": [
    "<!DOCTYPE html>\n",
    "<html>\n",
    "\n",
    "<head>\n",
    "    <meta charset=\"utf-8\">\n",
    "    <title>菜鳥教程</title>\n",
    "</head>\n",
    "\n",
    "<body>\n",
    "\n",
    "    <h1 id=\"myH1\"></h1>\n",
    "    <p id=\"myP\"></p>\n",
    "    <script>\n",
    "        /*\n",
    "        document.getElementById(\"myH1\").innerHTML=\"歡迎來到我的主頁\";\n",
    "        document.getElementById(\"myP\").innerHTML=\"這是我的第一個段落。\";\n",
    "        */\n",
    "    </script>\n",
    "    <p><strong>註意:</strong>註釋塊不會被執行。</p>\n",
    "\n",
    "</body>\n",
    "\n",
    "</html>"
   ]
  },
  {
   "cell_type": "markdown",
   "id": "4e728ad2",
   "metadata": {},
   "source": [
    "# 在行末使用註釋"
   ]
  },
  {
   "cell_type": "raw",
   "id": "f8292038",
   "metadata": {},
   "source": [
    "在下面的例子中，我們把註釋放到代碼行的結尾處："
   ]
  },
  {
   "cell_type": "code",
   "execution_count": null,
   "id": "d0c16ec9",
   "metadata": {},
   "outputs": [],
   "source": [
    "<!DOCTYPE html>\n",
    "<html>\n",
    "\n",
    "<head>\n",
    "    <meta charset=\"utf-8\">\n",
    "    <title>菜鳥教程</title>\n",
    "</head>\n",
    "\n",
    "<body>\n",
    "\n",
    "    <p id=\"myP\"></p>\n",
    "    <script>\n",
    "        var x = 5;       // 聲明 x 並把 5 賦值給它\n",
    "        var y = x + 2;   // 聲明 y 並把 x+2 賦值給它\n",
    "        document.getElementById(\"myP\").innerHTML = y      // 把 y 的值寫到 myP\n",
    "    </script>\n",
    "    <p><b>註釋：</b>註釋不會被執行。</p>\n",
    "\n",
    "</body>\n",
    "\n",
    "</html>"
   ]
  }
 ],
 "metadata": {
  "kernelspec": {
   "display_name": "Python 3 (ipykernel)",
   "language": "python",
   "name": "python3"
  },
  "language_info": {
   "codemirror_mode": {
    "name": "ipython",
    "version": 3
   },
   "file_extension": ".py",
   "mimetype": "text/x-python",
   "name": "python",
   "nbconvert_exporter": "python",
   "pygments_lexer": "ipython3",
   "version": "3.10.4"
  }
 },
 "nbformat": 4,
 "nbformat_minor": 5
}
