{
 "cells": [
  {
   "cell_type": "markdown",
   "id": "1635d210",
   "metadata": {},
   "source": [
    "# JavaScript作用域"
   ]
  },
  {
   "cell_type": "raw",
   "id": "03152f2d",
   "metadata": {},
   "source": [
    "作用域是可訪問變量的集合。"
   ]
  },
  {
   "cell_type": "raw",
   "id": "d0475fea",
   "metadata": {},
   "source": [
    "在 JavaScript中，對象和函數同樣也是變量。在 JavaS為cript中，作用域為\n",
    "可訪問變量，對象，函數的集合。\n",
    "JavaScript 函數作用域:  作用域再函數內修改。"
   ]
  },
  {
   "cell_type": "markdown",
   "id": "a48f7e8f",
   "metadata": {},
   "source": [
    "# JavaScript局部作用域"
   ]
  },
  {
   "cell_type": "raw",
   "id": "ce574643",
   "metadata": {},
   "source": [
    "變量再函數內聲明，變量為局部變量，具有局部作用域。\n",
    "局部變量: 只能在函數內部訪問。"
   ]
  },
  {
   "cell_type": "code",
   "execution_count": null,
   "id": "0c8a94c3",
   "metadata": {},
   "outputs": [],
   "source": [
    "<!DOCTYPE html>\n",
    "<html>\n",
    "\n",
    "<head>\n",
    "    <meta charset=\"utf-8\">\n",
    "    <title>菜鳥教程</title>\n",
    "</head>\n",
    "\n",
    "<body>\n",
    "\n",
    "    <p>局部變量在聲明的函數外不可以訪問。</p>\n",
    "    <p id=\"demo\"></p>\n",
    "    <script>\n",
    "        myFunction();\n",
    "        document.getElementById(\"demo\").innerHTML = \"carName 的類型是:\" + typeof carName;\n",
    "        function myFunction(){\n",
    "            var carName = \"Volvo\"; \n",
    "        }\n",
    "    </script>\n",
    "    \n",
    "</body>\n",
    "</html>"
   ]
  },
  {
   "cell_type": "raw",
   "id": "91372594",
   "metadata": {},
   "source": [
    "因為局部變量只作用於函數內，所以不同的函數可以使用相同名稱的變量。局部變量在函數開始執行時創建，函數執行完後局部變量會自動銷毀。"
   ]
  },
  {
   "cell_type": "markdown",
   "id": "07b813b2",
   "metadata": {},
   "source": [
    "# JavaScript 全局變量"
   ]
  },
  {
   "cell_type": "raw",
   "id": "4717d1fb",
   "metadata": {},
   "source": [
    "變量在函數外定義，即為全局變量。全局變量有全局作用域: 網頁中所有腳本和函數均可使用。"
   ]
  },
  {
   "cell_type": "code",
   "execution_count": null,
   "id": "8b1d64ea",
   "metadata": {},
   "outputs": [],
   "source": [
    "<!DOCTYPE html>\n",
    "<html>\n",
    "\n",
    "<head>\n",
    "    <meta charset=\"utf-8\">\n",
    "    <title>菜鳥教程</title>\n",
    "</head>\n",
    "\n",
    "<body>\n",
    "\n",
    "    <p>全局變量在任何腳本和函數內均可訪問。</p>\n",
    "    <p id=\"demo\"></p>\n",
    "    <script>\n",
    "        var carName = \"Volvo\";\n",
    "        myFunction();\n",
    "        function myFunction(){\n",
    "            document.getElementById(\"demo\").innerHTML = \n",
    "                \"我可以顯示\" + carName;\n",
    "        }\n",
    "    </script>\n",
    "    \n",
    "</body>\n",
    "</html>"
   ]
  },
  {
   "cell_type": "code",
   "execution_count": null,
   "id": "20c230a7",
   "metadata": {},
   "outputs": [],
   "source": [
    "如果變量在函數內沒有聲明(沒有使用 var 關鍵字) ，該變量為全局變量。以下實例中 carName 再函數內，但是為全局變量。"
   ]
  },
  {
   "cell_type": "code",
   "execution_count": null,
   "id": "e18b50d9",
   "metadata": {},
   "outputs": [],
   "source": [
    "<!DOCTYPE html>\n",
    "<html>\n",
    "\n",
    "<head>\n",
    "    <meta charset=\"utf-8\">\n",
    "    <title>菜鳥教程</title>\n",
    "</head>\n",
    "\n",
    "<body>\n",
    "\n",
    "    <p>\n",
    "        如果你的變量沒有聲明，它將自動成為全局變量:\n",
    "    </p>\n",
    "    <p id=\"demo\"></p>\n",
    "    <script>\n",
    "        myFunction();\n",
    "        document.getElementById(\"demo\").innerHTML = \n",
    "            \"我可以顯示 \" + carName ;\n",
    "        function myFunction(){\n",
    "            carName = \"Volvo\";\n",
    "        }\n",
    "    </script>\n",
    "    \n",
    "</body>\n",
    "\n",
    "</html>\n",
    "        "
   ]
  },
  {
   "cell_type": "markdown",
   "id": "5c0a7b4b",
   "metadata": {},
   "source": [
    "# JavaScript 變量生命週期"
   ]
  },
  {
   "cell_type": "code",
   "execution_count": null,
   "id": "47a3b726",
   "metadata": {},
   "outputs": [],
   "source": [
    "JavaScript 變量生命周期在它聲明時初始化。局部變量在函數執行完畢後銷毀。全局變量在頁面關閉後銷毀。"
   ]
  },
  {
   "cell_type": "markdown",
   "id": "24be0f84",
   "metadata": {},
   "source": [
    "# 函數參數"
   ]
  },
  {
   "cell_type": "code",
   "execution_count": null,
   "id": "4ec1097e",
   "metadata": {},
   "outputs": [],
   "source": [
    "函數參數只在函數內起作用，是局部變量。"
   ]
  },
  {
   "cell_type": "markdown",
   "id": "4dd9ec69",
   "metadata": {},
   "source": [
    "# HTML  中的全局變量"
   ]
  },
  {
   "cell_type": "code",
   "execution_count": null,
   "id": "fe3e82cd",
   "metadata": {},
   "outputs": [],
   "source": [
    "在 HTML中，全局變量是 window 對象，所以 window 對象可以調用函數內對局部變量。\n",
    "注意: 所有數據全局變量都屬於 window 對象。"
   ]
  },
  {
   "cell_type": "code",
   "execution_count": null,
   "id": "7350dc4f",
   "metadata": {},
   "outputs": [],
   "source": [
    "<!DOCTYPE html>\n",
    "<html>\n",
    "\n",
    "<head>\n",
    "    <meta charset=\"utf-8\">\n",
    "    <title>菜鳥教程</title>\n",
    "</head>\n",
    "\n",
    "<body>\n",
    "\n",
    "    <p>\n",
    "        在 HTML 中，所有全局變量都會成為window變量。\n",
    "    </p>\n",
    "    <p id=\"demo\"></p>\n",
    "    <script>\n",
    "        myFunction();\n",
    "        document.getElementById(\"demo\").innerHTML = \n",
    "            \"我可以顯示 \" + window.carName;\n",
    "        myFunction(){\n",
    "            carName = \"Volvo\";\n",
    "        }\n",
    "    </script>\n",
    "    \n",
    "</body>\n",
    "</html>"
   ]
  },
  {
   "cell_type": "raw",
   "id": "1739491a",
   "metadata": {},
   "source": [
    "你的全局變量，或者函數，可以覆蓋 window 對象的變量或者函數。\n",
    "局部變量，包括 window 對象可以覆蓋全局變量和函數。"
   ]
  }
 ],
 "metadata": {
  "kernelspec": {
   "display_name": "Python 3 (ipykernel)",
   "language": "python",
   "name": "python3"
  },
  "language_info": {
   "codemirror_mode": {
    "name": "ipython",
    "version": 3
   },
   "file_extension": ".py",
   "mimetype": "text/x-python",
   "name": "python",
   "nbconvert_exporter": "python",
   "pygments_lexer": "ipython3",
   "version": "3.10.4"
  }
 },
 "nbformat": 4,
 "nbformat_minor": 5
}
