{
 "cells": [
  {
   "cell_type": "markdown",
   "id": "1635d210",
   "metadata": {},
   "source": [
    "# JavaScript作用域"
   ]
  },
  {
   "cell_type": "raw",
   "id": "03152f2d",
   "metadata": {},
   "source": [
    "作用域是可訪問變量的集合。"
   ]
  },
  {
   "cell_type": "raw",
   "id": "d0475fea",
   "metadata": {},
   "source": [
    "在 JavaScript中，對象和函數同樣也是變量。在 JavaS為cript中，作用域為\n",
    "可訪問變量，對象，函數的集合。\n",
    "JavaScript 函數作用域:  作用域再函數內修改。"
   ]
  },
  {
   "cell_type": "markdown",
   "id": "a48f7e8f",
   "metadata": {},
   "source": [
    "# JavaScript局部作用域"
   ]
  },
  {
   "cell_type": "raw",
   "id": "ce574643",
   "metadata": {},
   "source": [
    "變量再函數內聲明，變量為局部變量，具有局部作用域。\n",
    "局部變量: 只能在函數內部訪問。"
   ]
  },
  {
   "cell_type": "code",
   "execution_count": null,
   "id": "0c8a94c3",
   "metadata": {},
   "outputs": [],
   "source": [
    "<!DOCTYPE html>\n",
    "<html>\n",
    "\n",
    "<head>\n",
    "    <meta charset=\"utf-8\">\n",
    "    <title>菜鳥教程</title>\n",
    "</head>\n",
    "\n",
    "<body>\n",
    "\n",
    "    <p>局部變量在聲明的函數外不可以訪問。</p>\n",
    "    <p id=\"demo\"></p>\n",
    "    <script>\n",
    "        myFunction();\n",
    "        document.getElementById(\"demo\").innerHTML = \"carName 的類型是:\" + typeof carName;\n",
    "        function myFunction(){\n",
    "            var carName = \"Volvo\"; \n",
    "        }\n",
    "    </script>\n",
    "    \n",
    "</body>\n",
    "</html>"
   ]
  },
  {
   "cell_type": "raw",
   "id": "91372594",
   "metadata": {},
   "source": [
    "因為局部變量只作用於函數內，所以不同的函數可以使用相同名稱的變量。局部變量在函數開始執行時創建，函數執行完後局部變量會自動銷毀。"
   ]
  },
  {
   "cell_type": "markdown",
   "id": "07b813b2",
   "metadata": {},
   "source": [
    "# JavaScript 全局變量"
   ]
  },
  {
   "cell_type": "raw",
   "id": "4717d1fb",
   "metadata": {},
   "source": [
    "變量在函數外定義，即為全局變量。全局變量有全局作用域: 網頁中所有腳本和函數均可使用。"
   ]
  },
  {
   "cell_type": "code",
   "execution_count": null,
   "id": "8b1d64ea",
   "metadata": {},
   "outputs": [],
   "source": [
    "<!DOCTYPE html>\n",
    "<html>\n",
    "\n",
    "<head>\n",
    "    <meta charset=\"utf-8\">\n",
    "    <title>菜鳥教程</title>\n",
    "</head>\n",
    "\n",
    "<body>\n",
    "\n",
    "    <p>全局變量在任何腳本和函數內均可訪問。</p>\n",
    "    <p id=\"demo\"></p>\n",
    "    <script>\n",
    "        var carName = \"Volvo\";\n",
    "        myFunction();\n",
    "        function myFunction(){\n",
    "            document.getElementById(\"demo\").innerHTML = \n",
    "                \"我可以顯示\" + carName;\n",
    "        }\n",
    "    </script>\n",
    "    \n",
    "</body>\n",
    "</html>"
   ]
  }
 ],
 "metadata": {
  "kernelspec": {
   "display_name": "Python 3 (ipykernel)",
   "language": "python",
   "name": "python3"
  },
  "language_info": {
   "codemirror_mode": {
    "name": "ipython",
    "version": 3
   },
   "file_extension": ".py",
   "mimetype": "text/x-python",
   "name": "python",
   "nbconvert_exporter": "python",
   "pygments_lexer": "ipython3",
   "version": "3.10.4"
  }
 },
 "nbformat": 4,
 "nbformat_minor": 5
}
