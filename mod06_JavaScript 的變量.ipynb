{
 "cells": [
  {
   "cell_type": "markdown",
   "id": "e501cbe0",
   "metadata": {},
   "source": [
    "# JavaScript 變量"
   ]
  },
  {
   "cell_type": "raw",
   "id": "c9eeb381",
   "metadata": {},
   "source": [
    "變量是用於存儲信息的\"容器\"。"
   ]
  },
  {
   "cell_type": "code",
   "execution_count": null,
   "id": "dc7f9d9c",
   "metadata": {},
   "outputs": [],
   "source": [
    "<!DOCTYPE html>\n",
    "<html>\n",
    "\n",
    "<head>\n",
    "    <meta charset=\"utf-8\">\n",
    "    <title>菜鳥教程</title>\n",
    "</head>\n",
    "\n",
    "<body>\n",
    "\n",
    "    <script>\n",
    "        var x = 5;\n",
    "        var y = 6;\n",
    "        var z = x + y ;\n",
    "        document.write(x + \"<br>\");\n",
    "        document.write(y + \"<br>\");\n",
    "        document.write(z + \"<br>\");\n",
    "    </script>\n",
    "    \n",
    "</body>\n",
    "</html>"
   ]
  },
  {
   "cell_type": "code",
   "execution_count": null,
   "id": "a9806ced",
   "metadata": {},
   "outputs": [],
   "source": [
    "就像代數那樣:\n",
    "    \n",
    "x = 5 \n",
    "y = 6 \n",
    "z = x + y \n",
    "\n",
    "在代數中，我們使用字母(比如 x) 來保存值(比如 5)。 通過上面的表達式 z = x + y ，我們能夠計算出 z 的值為 11 。\n",
    "在 JavaScript中，這些字母被稱為變量。"
   ]
  },
  {
   "cell_type": "raw",
   "id": "fe9af9c2",
   "metadata": {},
   "source": [
    "您可以把變量看做存儲數據的容器。"
   ]
  },
  {
   "cell_type": "markdown",
   "id": "69006a37",
   "metadata": {},
   "source": [
    "# JavaScript數據類型"
   ]
  },
  {
   "cell_type": "raw",
   "id": "92f92af9",
   "metadata": {},
   "source": [
    "JavaScript 變量還能保存其他數據類型，比如文本值 (name=\"Bill Gates\")。在 JavaScript 中，類似 \"Bill Gates\" 這樣一條文本被稱為字符串。JavaScript 變量有很多種類型，但是現在，我們只關注數字和字符串。當您向變量分配文本值時，應該用雙引號或單引號包圍這個值。當您向變量賦的值是數值時，不要使用引號。如果您用引號包圍數值，該值會被作為文本來處理。"
   ]
  },
  {
   "cell_type": "code",
   "execution_count": null,
   "id": "e1558d9a",
   "metadata": {},
   "outputs": [],
   "source": [
    "<!DOCTYPE html>\n",
    "<html>\n",
    "\n",
    "<head>\n",
    "    <meta charset=\"utf-8\">\n",
    "    <title>菜鳥教程</title>\n",
    "</head>\n",
    "\n",
    "<body>\n",
    "\n",
    "    <script>\n",
    "        var pi = 3.14;\n",
    "        var name = \"Bill Gates\";\n",
    "        var answer = \"Yes I am!\";\n",
    "        document.write(pi + \"<br>\");\n",
    "        document.write(name + \"<br>\");\n",
    "        document.write(answer + \"<br>\");\n",
    "    </script>\n",
    "\n",
    "</body>\n",
    "\n",
    "</html>"
   ]
  },
  {
   "cell_type": "markdown",
   "id": "adb9903a",
   "metadata": {},
   "source": [
    "# 聲明 (創建) JavaScript 變量"
   ]
  },
  {
   "cell_type": "raw",
   "id": "fa2a2e2a",
   "metadata": {},
   "source": [
    "在 JavaScript 中創建變量通常稱為 \"聲明\" 變量。我們使用 var 關鍵詞來聲明變量: "
   ]
  },
  {
   "cell_type": "code",
   "execution_count": 1,
   "id": "a912eb94",
   "metadata": {},
   "outputs": [
    {
     "ename": "SyntaxError",
     "evalue": "invalid syntax (Temp/ipykernel_29984/3982057535.py, line 1)",
     "output_type": "error",
     "traceback": [
      "\u001b[1;36m  File \u001b[1;32m\"C:\\Users\\HOMEOF~1\\AppData\\Local\\Temp/ipykernel_29984/3982057535.py\"\u001b[1;36m, line \u001b[1;32m1\u001b[0m\n\u001b[1;33m    var  carname ;\u001b[0m\n\u001b[1;37m         ^\u001b[0m\n\u001b[1;31mSyntaxError\u001b[0m\u001b[1;31m:\u001b[0m invalid syntax\n"
     ]
    }
   ],
   "source": [
    "var  carname ;"
   ]
  },
  {
   "cell_type": "code",
   "execution_count": null,
   "id": "4c83fde7",
   "metadata": {},
   "outputs": [],
   "source": [
    "變量聲明之後，該變量是空的(他沒有值)。如需向變量賦值，請使用等號:"
   ]
  },
  {
   "cell_type": "code",
   "execution_count": null,
   "id": "b8884317",
   "metadata": {},
   "outputs": [],
   "source": [
    "carname = \"Volvo\";"
   ]
  },
  {
   "cell_type": "code",
   "execution_count": null,
   "id": "1a6f92a1",
   "metadata": {},
   "outputs": [],
   "source": [
    "不過，您也可以在聲明變量時對其賦值:"
   ]
  },
  {
   "cell_type": "code",
   "execution_count": 2,
   "id": "44e33842",
   "metadata": {},
   "outputs": [
    {
     "ename": "SyntaxError",
     "evalue": "invalid syntax (Temp/ipykernel_29984/783136728.py, line 1)",
     "output_type": "error",
     "traceback": [
      "\u001b[1;36m  File \u001b[1;32m\"C:\\Users\\HOMEOF~1\\AppData\\Local\\Temp/ipykernel_29984/783136728.py\"\u001b[1;36m, line \u001b[1;32m1\u001b[0m\n\u001b[1;33m    var carname = \"Volvo\";\u001b[0m\n\u001b[1;37m        ^\u001b[0m\n\u001b[1;31mSyntaxError\u001b[0m\u001b[1;31m:\u001b[0m invalid syntax\n"
     ]
    }
   ],
   "source": [
    "var carname = \"Volvo\";"
   ]
  },
  {
   "cell_type": "code",
   "execution_count": null,
   "id": "503bc731",
   "metadata": {},
   "outputs": [],
   "source": [
    "在下面的例子中，我們創建了名為 carname 的變量，並向其賦值 \"Volvo\" ，然後把他放入 id= \"demo\" 的 HTML段落中:"
   ]
  },
  {
   "cell_type": "code",
   "execution_count": null,
   "id": "835ae120",
   "metadata": {},
   "outputs": [],
   "source": [
    "<!DOCTYPE html>\n",
    "<html>\n",
    "\n",
    "<head>\n",
    "    <meta charset=\"utf-8\">\n",
    "    <title>菜鳥教程</title>\n",
    "</head>\n",
    "\n",
    "<body>\n",
    "\n",
    "    <p>點擊這裏來創建變量，並顯示結果。</p>\n",
    "    <button onclick=\"myFunction()\">點擊這裡</button>\n",
    "    <p id=\"demo\"></p>\n",
    "    <script>\n",
    "        myFunction(){\n",
    "            var carname = \"Volvo\";\n",
    "            document.getElementById(\"demo\").innerHTML = carname ;\n",
    "        }\n",
    "    </script>\n",
    "    \n",
    "</body>\n",
    "</html>"
   ]
  },
  {
   "cell_type": "code",
   "execution_count": null,
   "id": "a606b0b8",
   "metadata": {},
   "outputs": [],
   "source": [
    "一個好的編程習慣是，在代碼開始處，統一對需要的變量進行聲明。"
   ]
  },
  {
   "cell_type": "markdown",
   "id": "6fa144f8",
   "metadata": {},
   "source": [
    "# 一條語句，多個變量"
   ]
  },
  {
   "cell_type": "raw",
   "id": "8a588641",
   "metadata": {},
   "source": [
    "您可以在一條語句中聲明很多變量。該語句以 var 開頭，並使用逗號分隔變量即可: "
   ]
  },
  {
   "cell_type": "code",
   "execution_count": null,
   "id": "773bd39f",
   "metadata": {},
   "outputs": [],
   "source": [
    "var lastname = \"Doe\",age = 30 , job = 'carpenter';"
   ]
  },
  {
   "cell_type": "markdown",
   "id": "d4ba5e2d",
   "metadata": {},
   "source": [
    "聲明也可橫跨多行;"
   ]
  },
  {
   "cell_type": "code",
   "execution_count": null,
   "id": "6403914b",
   "metadata": {},
   "outputs": [],
   "source": [
    "var lastname = \"Doe\" ,\n",
    "age = 30 ,\n",
    "job = 'carpenter';"
   ]
  },
  {
   "cell_type": "raw",
   "id": "5778f563",
   "metadata": {},
   "source": [
    "一條語句中聲明的多個變量不可以同時賦同一個值:"
   ]
  },
  {
   "cell_type": "code",
   "execution_count": 1,
   "id": "77a524ee",
   "metadata": {},
   "outputs": [
    {
     "ename": "SyntaxError",
     "evalue": "invalid syntax (Temp/ipykernel_27340/3362377639.py, line 1)",
     "output_type": "error",
     "traceback": [
      "\u001b[1;36m  File \u001b[1;32m\"C:\\Users\\HOMEOF~1\\AppData\\Local\\Temp/ipykernel_27340/3362377639.py\"\u001b[1;36m, line \u001b[1;32m1\u001b[0m\n\u001b[1;33m    var x ,y ,z = 1\u001b[0m\n\u001b[1;37m        ^\u001b[0m\n\u001b[1;31mSyntaxError\u001b[0m\u001b[1;31m:\u001b[0m invalid syntax\n"
     ]
    }
   ],
   "source": [
    "var x ,y ,z = 1"
   ]
  },
  {
   "cell_type": "code",
   "execution_count": null,
   "id": "2c37e669",
   "metadata": {},
   "outputs": [],
   "source": [
    "x ,y 為 undefined , z 為 1。"
   ]
  },
  {
   "cell_type": "markdown",
   "id": "cc018251",
   "metadata": {},
   "source": [
    "# Value = undefined"
   ]
  },
  {
   "cell_type": "code",
   "execution_count": null,
   "id": "7a445611",
   "metadata": {},
   "outputs": [],
   "source": [
    "在計算機程序中，經常會聲明無值的變量。未使用值來聲明的變量，其值實際上是 undefined 。 在執行過以下語句後，變量carname 的值將是 undefined:"
   ]
  },
  {
   "cell_type": "code",
   "execution_count": null,
   "id": "d7ff884a",
   "metadata": {},
   "outputs": [],
   "source": [
    "var carname ;"
   ]
  },
  {
   "cell_type": "markdown",
   "id": "daed1846",
   "metadata": {},
   "source": [
    "# 重新聲明 JavaScript 變量"
   ]
  },
  {
   "cell_type": "raw",
   "id": "2bbc0b12",
   "metadata": {},
   "source": [
    "如果重新聲明 JavaScript 變量，該變量的值不會丟失: \n",
    "在以下兩條語句執行後，變量 carname 的值依然是 \"Volvo\":"
   ]
  },
  {
   "cell_type": "code",
   "execution_count": null,
   "id": "dc93f5a3",
   "metadata": {},
   "outputs": [],
   "source": [
    "var carname = \"Volvo\" ;\n",
    "var carname ;"
   ]
  },
  {
   "cell_type": "markdown",
   "id": "beeff683",
   "metadata": {},
   "source": [
    "# JavaScript 算數"
   ]
  },
  {
   "cell_type": "raw",
   "id": "ebd639a4",
   "metadata": {},
   "source": [
    "您可以通過 JavaScript 變量來做算數，使用的是 = 和 + 這類運算符 :"
   ]
  },
  {
   "cell_type": "code",
   "execution_count": null,
   "id": "0a44992b",
   "metadata": {},
   "outputs": [],
   "source": [
    "<!DOCTYPE html>\n",
    "<html>\n",
    "\n",
    "<head>\n",
    "    <meta charset=\"utf-8\">\n",
    "    <title>菜鳥教程</title>\n",
    "</head>\n",
    "\n",
    "\n",
    "<body>\n",
    "\n",
    "    <p>假設 y=5 ,計算 x=y+2 ,並顯示結果。</p>\n",
    "    <button onclick=\"myFunction()\">點擊這裡</button>\n",
    "    <p id=\"demo\"></p>\n",
    "    <script>\n",
    "        function myFunction(){\n",
    "            var y = 5;\n",
    "            var x = y + 2 ;\n",
    "            var demoP = document.getElementById(\"demo\");\n",
    "            demoP.innerHTML = \"x=\" + x ;\n",
    "        }\n",
    "    </script>\n",
    "    \n",
    "</body>\n",
    "</html>"
   ]
  },
  {
   "cell_type": "markdown",
   "id": "06cbea43",
   "metadata": {},
   "source": [
    "# 使用 let 和 const(ES6)"
   ]
  },
  {
   "cell_type": "code",
   "execution_count": null,
   "id": "1e1a6698",
   "metadata": {},
   "outputs": [],
   "source": [
    "在 2015 年以前，我們使用 var 關鍵字來聲明 JavaScript 變量。在 2015 後的 JavaScript 版本 (ES6) 允許我們使用 const 關鍵字來定義一個常量，使用 let 關鍵字定義的限定範圍內作用域的變量。更多 const 和 let 內容可以參閱：JavaScript let 和 const。\n",
    "\n",
    "您將在本教程稍後的章節學到更多有關 JavaScript 運算符的知識。"
   ]
  }
 ],
 "metadata": {
  "kernelspec": {
   "display_name": "Python 3 (ipykernel)",
   "language": "python",
   "name": "python3"
  },
  "language_info": {
   "codemirror_mode": {
    "name": "ipython",
    "version": 3
   },
   "file_extension": ".py",
   "mimetype": "text/x-python",
   "name": "python",
   "nbconvert_exporter": "python",
   "pygments_lexer": "ipython3",
   "version": "3.10.4"
  }
 },
 "nbformat": 4,
 "nbformat_minor": 5
}
