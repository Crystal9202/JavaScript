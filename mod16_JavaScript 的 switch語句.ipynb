{
 "cells": [
  {
   "cell_type": "markdown",
   "id": "aced79c4",
   "metadata": {},
   "source": [
    "# JavaScript 的 switch 語句"
   ]
  },
  {
   "cell_type": "code",
   "execution_count": null,
   "id": "18cd809d",
   "metadata": {},
   "outputs": [],
   "source": [
    "switch 語句用於基於不同的條件來執行不同的動作。請使用 switch 語句來選擇要執行的多個代碼塊之一"
   ]
  },
  {
   "cell_type": "markdown",
   "id": "8d5b5f1b",
   "metadata": {},
   "source": [
    "## 語法"
   ]
  },
  {
   "cell_type": "code",
   "execution_count": null,
   "id": "0a49be36",
   "metadata": {},
   "outputs": [],
   "source": [
    "switch(n)\n",
    "{\n",
    "    case 1:\n",
    "        執行代碼塊 1\n",
    "        break;\n",
    "    case 2:\n",
    "        執行代碼塊 2\n",
    "        break;\n",
    "    default:\n",
    "        與 case 1 和 case 2不同時執行的代碼\n",
    "}"
   ]
  },
  {
   "cell_type": "raw",
   "id": "b6ecba22",
   "metadata": {},
   "source": [
    "工作原理：首先設置表達式 n（通常是一個變量）。隨後表達式的值會與結構中的每個 case 的值做比較。如果存在匹配，則與該 case 關聯的代碼塊會被執行。請使用 break 來阻止代碼自動地向下一個 case 運行。"
   ]
  },
  {
   "cell_type": "code",
   "execution_count": null,
   "id": "e8e7fe4a",
   "metadata": {},
   "outputs": [],
   "source": [
    "<!DOCTYPE html>\n",
    "<html>\n",
    "\n",
    "<head>\n",
    "    <meta charset=\"utf-8\">\n",
    "    <title>菜鳥教程</title>\n",
    "</head>\n",
    "\n",
    "<body>\n",
    "\n",
    "    <p>點擊下面的按鈕來顯示今天是周幾：</p>\n",
    "    <button onclick=\"myFunction()\">點擊這裏</button>\n",
    "    <p id=\"demo\"></p>\n",
    "    <script>\n",
    "        function myFunction(){\n",
    "            var x;\n",
    "            var d = new Date().getDay();\n",
    "            switch (d){\n",
    "                case 0: x = \"今天是星期日\";\n",
    "                    break;\n",
    "                case 1: x = \"今天是星期一\";\n",
    "                    break;\n",
    "                case 2: x = \"今天是星期二\";\n",
    "                    break;\n",
    "                case 3: x = \"今天是星期三\";\n",
    "                    break;\n",
    "                case 4: x = \"今天是星期四\";\n",
    "                    break;\n",
    "                case 5: x = \"今天是星期五\";\n",
    "                    break;\n",
    "                case 6: x = \"今天是星期六\";\n",
    "                    break;\n",
    "            }\n",
    "            document.getElementById(\"demo\").innerHTML = x;\n",
    "        }\n",
    "    </script>\n",
    "\n",
    "</body>\n",
    "\n",
    "</html>"
   ]
  },
  {
   "cell_type": "markdown",
   "id": "331fab59",
   "metadata": {},
   "source": [
    "# default 關鍵詞"
   ]
  },
  {
   "cell_type": "raw",
   "id": "fae8b659",
   "metadata": {},
   "source": [
    "請使用 defalut 關鍵詞來規定匹配不存在時做的事情 : "
   ]
  },
  {
   "cell_type": "code",
   "execution_count": null,
   "id": "e7103445",
   "metadata": {},
   "outputs": [],
   "source": [
    "<html>\n",
    "\n",
    "<head>\n",
    "    <meta charset=\"utf-8\">\n",
    "    <title>菜鳥教程</title>\n",
    "</head>\n",
    "\n",
    "<body>\n",
    "\n",
    "    <p>點擊下面的按鈕，會顯示出基於今日日期的消息：</p>\n",
    "    <button onclick=\"myFunction()\">點擊這裏</button>\n",
    "    <p id=\"demo\"></p>\n",
    "    <script>\n",
    "        function myFunction() {\n",
    "            var x;\n",
    "            var d = new Date.getDay();\n",
    "            switch (d) {\n",
    "                case 6: x = \"今天是星期六\" ;\n",
    "                    break;\n",
    "                case 0: x = \"今天是星期日\" ;\n",
    "                    break;\n",
    "                default :\n",
    "                    x =\"期待周末\" ;\n",
    "            }\n",
    "            document.getElementById(\"demo\").innerHTML = x;\n",
    "        }\n",
    "    </script>\n",
    "\n",
    "</body>\n",
    "\n",
    "</html>"
   ]
  },
  {
   "cell_type": "code",
   "execution_count": null,
   "id": "49f9ec2c",
   "metadata": {},
   "outputs": [],
   "source": [
    "如果今天不是星期六或星期日，則會輸出默認的消息："
   ]
  }
 ],
 "metadata": {
  "kernelspec": {
   "display_name": "Python 3 (ipykernel)",
   "language": "python",
   "name": "python3"
  },
  "language_info": {
   "codemirror_mode": {
    "name": "ipython",
    "version": 3
   },
   "file_extension": ".py",
   "mimetype": "text/x-python",
   "name": "python",
   "nbconvert_exporter": "python",
   "pygments_lexer": "ipython3",
   "version": "3.10.4"
  }
 },
 "nbformat": 4,
 "nbformat_minor": 5
}
