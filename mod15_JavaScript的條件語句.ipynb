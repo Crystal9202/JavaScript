{
 "cells": [
  {
   "cell_type": "markdown",
   "id": "d7304888",
   "metadata": {},
   "source": [
    "# JavaScript  if ... Else 語句"
   ]
  },
  {
   "cell_type": "markdown",
   "id": "49a6dd4a",
   "metadata": {},
   "source": [
    "條件語句用於基於不同的條件來執行不同的動作。"
   ]
  },
  {
   "cell_type": "markdown",
   "id": "f06f4357",
   "metadata": {},
   "source": [
    "## 條件語句"
   ]
  },
  {
   "cell_type": "raw",
   "id": "a82c8af5",
   "metadata": {},
   "source": [
    "通常在寫代碼時，您總是需要為不同的決定來執行不同的動作。您可以在代碼中使用條件語句來完成該任務。在 JavaScript 中，我們可使用以下條件語句：<br>\n",
    "\n",
    "- if 語句 - 只有當指定條件為 true 時，使用該語句來執行代碼<br>\n",
    "- if...else 語句  - 當條件為 true 時執行代碼，當條件為 false 時執行其他代碼<br>\n",
    "- if...else if...else 語句  - 使用該語句來選擇多個代碼塊之一來執行<br>\n",
    "- switch 語句  - 使用該語句來選擇多個代碼塊之一來執行 "
   ]
  },
  {
   "cell_type": "markdown",
   "id": "7acb99ce",
   "metadata": {},
   "source": [
    "# if 語句"
   ]
  },
  {
   "cell_type": "raw",
   "id": "2bdd75e4",
   "metadata": {},
   "source": [
    "只有當指定條件為 true 時，該語句才會執行代碼。"
   ]
  },
  {
   "cell_type": "markdown",
   "id": "ab7ef5c1",
   "metadata": {},
   "source": [
    "## 語法"
   ]
  },
  {
   "cell_type": "code",
   "execution_count": null,
   "id": "fe4bd1a2",
   "metadata": {},
   "outputs": [],
   "source": [
    "if (condition)\n",
    "{\n",
    "    當條件為 true 時執行的代碼\n",
    "}"
   ]
  },
  {
   "cell_type": "raw",
   "id": "1e2f2435",
   "metadata": {},
   "source": [
    "請使用小寫的 if 。 使用大寫字母 (IF)會生成 JavaScript 錯誤!"
   ]
  },
  {
   "cell_type": "code",
   "execution_count": null,
   "id": "4ac82cd0",
   "metadata": {},
   "outputs": [],
   "source": [
    "<!DOCTYPE html>\n",
    "<html>\n",
    "\n",
    "<head>\n",
    "    <meta charset=\"utf-8\">\n",
    "    <title>菜鳥教程</title>\n",
    "</head>\n",
    "\n",
    "<body>\n",
    "\n",
    "    <p>如果時間早於 20:00，會獲得問候 \"Good day\"。</p>\n",
    "    <button onclick=\"myFunction()\">點擊這裏</button>\n",
    "    <p id=\"demo\"></p>\n",
    "    <script>\n",
    "        function myFunction(){\n",
    "            var x = \"\" ;\n",
    "            var time = new Date().getHours();\n",
    "            if (time < 20){\n",
    "                x = \"Good day\";\n",
    "            }\n",
    "            document.getElementById(\"demo\").innerHTML = x;\n",
    "        }\n",
    "    </script>\n",
    "\n",
    "</body>\n",
    "\n",
    "</html>"
   ]
  },
  {
   "cell_type": "raw",
   "id": "34b3568f",
   "metadata": {},
   "source": [
    "請注意在這個語法中，沒有 ...else...，您已經告訴瀏覽器只有在指定條件為true時才執行代碼。"
   ]
  },
  {
   "cell_type": "code",
   "execution_count": null,
   "id": "b7f9bfa2",
   "metadata": {},
   "outputs": [],
   "source": []
  }
 ],
 "metadata": {
  "kernelspec": {
   "display_name": "Python 3 (ipykernel)",
   "language": "python",
   "name": "python3"
  },
  "language_info": {
   "codemirror_mode": {
    "name": "ipython",
    "version": 3
   },
   "file_extension": ".py",
   "mimetype": "text/x-python",
   "name": "python",
   "nbconvert_exporter": "python",
   "pygments_lexer": "ipython3",
   "version": "3.10.4"
  }
 },
 "nbformat": 4,
 "nbformat_minor": 5
}
