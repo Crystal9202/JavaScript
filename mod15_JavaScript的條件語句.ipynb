{
 "cells": [
  {
   "cell_type": "markdown",
   "id": "d7304888",
   "metadata": {},
   "source": [
    "# JavaScript  if ... Else 語句"
   ]
  },
  {
   "cell_type": "markdown",
   "id": "49a6dd4a",
   "metadata": {},
   "source": [
    "條件語句用於基於不同的條件來執行不同的動作。"
   ]
  },
  {
   "cell_type": "markdown",
   "id": "f06f4357",
   "metadata": {},
   "source": [
    "## 條件語句"
   ]
  },
  {
   "cell_type": "raw",
   "id": "a82c8af5",
   "metadata": {},
   "source": [
    "通常在寫代碼時，您總是需要為不同的決定來執行不同的動作。您可以在代碼中使用條件語句來完成該任務。在 JavaScript 中，我們可使用以下條件語句：<br>\n",
    "\n",
    "- if 語句 - 只有當指定條件為 true 時，使用該語句來執行代碼<br>\n",
    "- if...else 語句  - 當條件為 true 時執行代碼，當條件為 false 時執行其他代碼<br>\n",
    "- if...else if...else 語句  - 使用該語句來選擇多個代碼塊之一來執行<br>\n",
    "- switch 語句  - 使用該語句來選擇多個代碼塊之一來執行 "
   ]
  },
  {
   "cell_type": "markdown",
   "id": "7acb99ce",
   "metadata": {},
   "source": [
    "# if 語句"
   ]
  },
  {
   "cell_type": "raw",
   "id": "2bdd75e4",
   "metadata": {},
   "source": [
    "只有當指定條件為 true 時，該語句才會執行代碼。"
   ]
  },
  {
   "cell_type": "markdown",
   "id": "ab7ef5c1",
   "metadata": {},
   "source": [
    "## 語法"
   ]
  },
  {
   "cell_type": "code",
   "execution_count": null,
   "id": "fe4bd1a2",
   "metadata": {},
   "outputs": [],
   "source": [
    "if (condition)\n",
    "{\n",
    "    當條件為 true 時執行的代碼\n",
    "}"
   ]
  },
  {
   "cell_type": "raw",
   "id": "1e2f2435",
   "metadata": {},
   "source": [
    "請使用小寫的 if 。 使用大寫字母 (IF)會生成 JavaScript 錯誤!"
   ]
  },
  {
   "cell_type": "code",
   "execution_count": null,
   "id": "4ac82cd0",
   "metadata": {},
   "outputs": [],
   "source": [
    "<!DOCTYPE html>\n",
    "<html>\n",
    "\n",
    "<head>\n",
    "    <meta charset=\"utf-8\">\n",
    "    <title>菜鳥教程</title>\n",
    "</head>\n",
    "\n",
    "<body>\n",
    "\n",
    "    <p>如果時間早於 20:00，會獲得問候 \"Good day\"。</p>\n",
    "    <button onclick=\"myFunction()\">點擊這裏</button>\n",
    "    <p id=\"demo\"></p>\n",
    "    <script>\n",
    "        function myFunction(){\n",
    "            var x = \"\" ;\n",
    "            var time = new Date().getHours();\n",
    "            if (time < 20){\n",
    "                x = \"Good day\";\n",
    "            }\n",
    "            document.getElementById(\"demo\").innerHTML = x;\n",
    "        }\n",
    "    </script>\n",
    "\n",
    "</body>\n",
    "\n",
    "</html>"
   ]
  },
  {
   "cell_type": "raw",
   "id": "34b3568f",
   "metadata": {},
   "source": [
    "請注意在這個語法中，沒有 ...else...，您已經告訴瀏覽器只有在指定條件為true時才執行代碼。"
   ]
  },
  {
   "cell_type": "markdown",
   "id": "4843470c",
   "metadata": {},
   "source": [
    "# if...else 語句"
   ]
  },
  {
   "cell_type": "raw",
   "id": "0304d716",
   "metadata": {},
   "source": [
    "請使用 if...else 語句在條件為 true 時執行代碼，在條件為 false 時執行其他代碼。"
   ]
  },
  {
   "cell_type": "markdown",
   "id": "a8363492",
   "metadata": {},
   "source": [
    "## 語法"
   ]
  },
  {
   "cell_type": "code",
   "execution_count": null,
   "id": "e9cab9c4",
   "metadata": {},
   "outputs": [],
   "source": [
    "if (condition)\n",
    "{\n",
    "    當條件為 true 時執行的代碼\n",
    "}\n",
    "else\n",
    "{\n",
    "    當條件不為 true 時執行的代碼\n",
    "}"
   ]
  },
  {
   "cell_type": "code",
   "execution_count": null,
   "id": "2c2d3c7a",
   "metadata": {},
   "outputs": [],
   "source": [
    "<!DOCTYPE html>\n",
    "<html>\n",
    "\n",
    "<head>\n",
    "    <meta charset=\"utf-8\">\n",
    "    <title></title>\n",
    "</head>\n",
    "\n",
    "<body>\n",
    "\n",
    "    <p>點擊這個按鈕，獲得基於時間的問候。</p>\n",
    "    <button onclick=\"myFunction()\">點擊這裏</button>\n",
    "    <p id=\"demo\"></p>\n",
    "    <script>\n",
    "        function myFunction(){\n",
    "            var x = \"\";\n",
    "            var time = new Date().getHours();\n",
    "            if (time < 20){\n",
    "                x = \"Good day\";\n",
    "            }\n",
    "            else {\n",
    "                x = \"Good evening\";\n",
    "            }\n",
    "            document.getElementById(\"demo\").innerHTML = x;\n",
    "        }\n",
    "    </script>\n",
    "\n",
    "</body>\n",
    "\n",
    "</html>"
   ]
  },
  {
   "cell_type": "markdown",
   "id": "458a5402",
   "metadata": {},
   "source": [
    "## if...else if ...else 語句"
   ]
  },
  {
   "cell_type": "markdown",
   "id": "7a821c9e",
   "metadata": {},
   "source": [
    "使用 if ... else if ...else 語句來選擇多個代碼之一來執行。"
   ]
  },
  {
   "cell_type": "markdown",
   "id": "2443a2a7",
   "metadata": {},
   "source": [
    "## 語法"
   ]
  },
  {
   "cell_type": "code",
   "execution_count": null,
   "id": "4170403b",
   "metadata": {},
   "outputs": [],
   "source": [
    "if (condition)\n",
    "{\n",
    "    當條件 1 為 true 時執行的代碼\n",
    "}\n",
    "else if (condition2)\n",
    "{\n",
    "    當條件 2 為 true 時執行的代碼\n",
    "}\n",
    "else\n",
    "{\n",
    "    當條件 1 和 條件 2都不為 true 時執行的代碼\n",
    "}"
   ]
  },
  {
   "cell_type": "code",
   "execution_count": null,
   "id": "77f1f581",
   "metadata": {},
   "outputs": [],
   "source": [
    "<html>\n",
    "\n",
    "<head>\n",
    "    <meta charset=\"utf-8\">\n",
    "    <title>菜鳥教程</title>\n",
    "</head>\n",
    "\n",
    "<body>\n",
    "\n",
    "    <script>\n",
    "        var d = new Date();\n",
    "        var time = d.getHousrs();\n",
    "        if (time < 10) {\n",
    "            document.write(\"<b>早上好</b>\");\n",
    "        }\n",
    "        else if (time >= 10 && time < 20){\n",
    "            document.write(\"<b>晚上好!</b>\");\n",
    "        }\n",
    "        else {\n",
    "            document.write(\"<b>晚上好!</b>\");\n",
    "        }\n",
    "        <p>\n",
    "            這個例子演示了 if ...else if ... else 語句。\n",
    "        </p>\n",
    "\n",
    "</body>\n",
    "\n",
    "</html>"
   ]
  },
  {
   "cell_type": "markdown",
   "id": "5af8d3c9",
   "metadata": {},
   "source": [
    "## 範例"
   ]
  },
  {
   "cell_type": "code",
   "execution_count": null,
   "id": "fff65931",
   "metadata": {},
   "outputs": [],
   "source": [
    "這個實例演示了一個鏈接，當您點擊鏈接時，會帶您到不同的地方去，每種機會都是 50% 的機率"
   ]
  },
  {
   "cell_type": "code",
   "execution_count": null,
   "id": "8e7aba94",
   "metadata": {},
   "outputs": [],
   "source": [
    "<!DOCTYPE html>\n",
    "<html>\n",
    "\n",
    "<head>\n",
    "    <meta charset=\"utf-8\">\n",
    "    <title>菜鳥教程</title>\n",
    "</head>\n",
    "\n",
    "<body>\n",
    "\n",
    "    <p id=\"demo\"></p>\n",
    "    <script>\n",
    "        var r = Math.random();\n",
    "        var x = document.getElementById(\"demo\")\n",
    "        if (r > 0.5) {\n",
    "            x.innerHTML = \"<a href='http://www.runoob.com'>訪問菜鳥教程</a>\";\n",
    "        }\n",
    "        else {\n",
    "            x.innerHTML = \"<a href='http://wwf.org'>Visit WWF</a>\";\n",
    "        }\n",
    "    </script>\n",
    "\n",
    "</body>\n",
    "\n",
    "</html>"
   ]
  },
  {
   "cell_type": "markdown",
   "id": "4d6d8624",
   "metadata": {},
   "source": [
    "## 範例"
   ]
  },
  {
   "cell_type": "raw",
   "id": "e8d5de5a",
   "metadata": {},
   "source": [
    "這樣 century 在外部會沒有定義。"
   ]
  },
  {
   "cell_type": "code",
   "execution_count": null,
   "id": "d4596796",
   "metadata": {},
   "outputs": [],
   "source": [
    "<script>\n",
    "    const birthYear = 2012;\n",
    "    \n",
    "    if (birthYear <= 2000) {\n",
    "        let century = 20;\n",
    "    } else {\n",
    "        let century = 21;\n",
    "    }\n",
    "    \n",
    "    console.log(century);\n",
    "</script>"
   ]
  },
  {
   "cell_type": "raw",
   "id": "2c9b52fe",
   "metadata": {},
   "source": [
    "需改寫成 : "
   ]
  },
  {
   "cell_type": "code",
   "execution_count": null,
   "id": "0744ab3b",
   "metadata": {},
   "outputs": [],
   "source": [
    "<script>\n",
    "    const birthYear = 2012;\n",
    "    let century ;\n",
    "    \n",
    "    if (birthYear <= 2000){\n",
    "        century = 20;\n",
    "    } else {\n",
    "        century = 21;\n",
    "    }\n",
    "    \n",
    "    console.log(century);\n",
    "</script>"
   ]
  }
 ],
 "metadata": {
  "kernelspec": {
   "display_name": "Python 3 (ipykernel)",
   "language": "python",
   "name": "python3"
  },
  "language_info": {
   "codemirror_mode": {
    "name": "ipython",
    "version": 3
   },
   "file_extension": ".py",
   "mimetype": "text/x-python",
   "name": "python",
   "nbconvert_exporter": "python",
   "pygments_lexer": "ipython3",
   "version": "3.10.4"
  }
 },
 "nbformat": 4,
 "nbformat_minor": 5
}
