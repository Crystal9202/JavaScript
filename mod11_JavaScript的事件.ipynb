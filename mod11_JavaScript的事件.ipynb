{
 "cells": [
  {
   "cell_type": "markdown",
   "id": "ab6b6051",
   "metadata": {},
   "source": [
    "# JavaScript 事件"
   ]
  },
  {
   "cell_type": "code",
   "execution_count": null,
   "id": "6797eaab",
   "metadata": {},
   "outputs": [],
   "source": [
    "HTML 事件是發生在 HTML 元素上的事情。 \n",
    "當在 HTML 頁面中使用 JavaScript 時， JavaScript 可以觸發這些事件。"
   ]
  },
  {
   "cell_type": "markdown",
   "id": "506b4b54",
   "metadata": {},
   "source": [
    "# HTML 事件"
   ]
  },
  {
   "cell_type": "raw",
   "id": "5ffe628b",
   "metadata": {},
   "source": [
    "HTML 事件可以是瀏覽器行為，也可以是用戶行為 。\n",
    "以下是 HTML 事件的實例: \n",
    "\n",
    "      - HTML 頁面完成加載\n",
    "      - HTML input 字段改變時\n",
    "      - HTML 按鈕被點擊"
   ]
  },
  {
   "cell_type": "code",
   "execution_count": null,
   "id": "59095ec8",
   "metadata": {},
   "outputs": [],
   "source": [
    "通常當事件發生時，你可以做些事情。在事件觸發時 JavaScript 可以執行一些代碼。\n",
    "HTML 元素中可以添加事件屬性，使用 JavaScript 代碼來添加 HTML元素。"
   ]
  },
  {
   "cell_type": "code",
   "execution_count": null,
   "id": "cdd78dd2",
   "metadata": {},
   "outputs": [],
   "source": [
    "單引號:\n",
    "\n",
    "<some-HTML-element some-event='JavaScript 代碼'>\n",
    "\n",
    "雙引號:\n",
    "\n",
    "<some-HTML-element some-event=\"JavaScript 代碼\">"
   ]
  },
  {
   "cell_type": "code",
   "execution_count": null,
   "id": "76b07c2d",
   "metadata": {},
   "outputs": [],
   "source": [
    "在以下實例中，按鈕元素中添加了 onclick屬性 (並加上代碼) : "
   ]
  },
  {
   "cell_type": "code",
   "execution_count": null,
   "id": "a3b0d818",
   "metadata": {},
   "outputs": [],
   "source": [
    "<!DOCTYPE html>\n",
    "<html>\n",
    "\n",
    "<head>\n",
    "    <meta charset=\"utf-8\">\n",
    "    <title>菜鳥教程</title>\n",
    "</head>\n",
    "\n",
    "<body>\n",
    "    \n",
    "    <button onclick=\"getElementById('demo').innerHTML = Date()\">現在的時間是?</button>\n",
    "    <p id=\"demo\"></p>\n",
    "    \n",
    "</body>\n",
    "\n",
    "</html>"
   ]
  },
  {
   "cell_type": "raw",
   "id": "d3d917fb",
   "metadata": {},
   "source": [
    "在以上實例中， JavaScript代碼將修改 id=\"demo\" 元素的內容。在下一個實例中，代碼將修改自身元素的內容(使用 this.innerHTML) :"
   ]
  },
  {
   "cell_type": "code",
   "execution_count": null,
   "id": "62fc51c6",
   "metadata": {},
   "outputs": [],
   "source": [
    "<!DOCTYPE html>\n",
    "<html>\n",
    "\n",
    "<head>\n",
    "    <meta charset=\"utf-8\">\n",
    "    <title>菜鳥教程</title>\n",
    "</head>\n",
    "\n",
    "<body>\n",
    "\n",
    "    <button onclick=\"this.innerHTML=Date()\">現在的時間是?</button>\n",
    "    \n",
    "</body>\n",
    "\n",
    "</html>"
   ]
  },
  {
   "cell_type": "code",
   "execution_count": null,
   "id": "b5fa890b",
   "metadata": {},
   "outputs": [],
   "source": [
    "JavaScript 代碼通常是幾行代碼。比較常見的是通過事件屬性來調用:"
   ]
  },
  {
   "cell_type": "code",
   "execution_count": null,
   "id": "52dd70f6",
   "metadata": {},
   "outputs": [],
   "source": [
    "<!DOCTYPE html>\n",
    "<html>\n",
    "\n",
    "<head>\n",
    "    <meta charset=\"utf-8\">\n",
    "    <title>菜鳥教程</title>\n",
    "</head>\n",
    "\n",
    "<body>\n",
    "\n",
    "    <p> 點擊按鈕執行 <em>displayDate()</em> 函數.</p>\n",
    "    <button onclick=\"displayDate()\">點這裡</button>\n",
    "    <script>\n",
    "        function displayDate(){\n",
    "            document.getElementById(\"demo\").innerHTML = Date();\n",
    "        }\n",
    "    </script>\n",
    "    <p id=\"demo\"></p>\n",
    "    \n",
    "</body>\n",
    "\n",
    "</html>"
   ]
  },
  {
   "cell_type": "markdown",
   "id": "aeded432",
   "metadata": {},
   "source": [
    "# 常見的HTML 事件"
   ]
  },
  {
   "cell_type": "raw",
   "id": "38033407",
   "metadata": {},
   "source": [
    "下面是一些常見的 HTML事件的列表 : "
   ]
  },
  {
   "cell_type": "raw",
   "id": "b68caa5d",
   "metadata": {},
   "source": [
    "事件\t               描述\n",
    "\n",
    "onchange\t         HTML 元素改變\n",
    "onclick\t             用戶點擊 HTML 元素\n",
    "onmouseover\t         鼠標指針移動到指定的元素上時發生\n",
    "onmouseout\t         用戶從一個 HTML 元素上移開鼠標時發生\n",
    "onkeydown\t         用戶按下鍵盤按鍵\n",
    "onload\t             瀏覽器已完成頁面的加載"
   ]
  },
  {
   "cell_type": "markdown",
   "id": "ba5ad547",
   "metadata": {},
   "source": [
    "# JavaScript 可以做什麼"
   ]
  },
  {
   "cell_type": "raw",
   "id": "d48c9fb0",
   "metadata": {},
   "source": [
    "事件可以用於處理表單驗證，用戶輸入，用戶行為及瀏覽器動作:\n",
    "\n",
    "頁面加載時觸發事件\n",
    "頁面關閉時觸發事件\n",
    "用戶點擊按鈕執行動作\n",
    "驗證用戶輸入內容的合法性\n",
    "等等 ...\n",
    "\n",
    "可以使用多種方法來執行 JavaScript 事件代碼：\n",
    "\n",
    "HTML 事件屬性可以直接執行 JavaScript 代碼\n",
    "HTML 事件屬性可以調用 JavaScript 函數\n",
    "你可以為 HTML 元素指定自己的事件處理程序\n",
    "你可以阻止事件的發生。\n",
    "等等 ..."
   ]
  },
  {
   "cell_type": "raw",
   "id": "6d74781f",
   "metadata": {},
   "source": [
    "在 HTML DOM 章節中你將會學到更多關於事件及事件處理程序的知識。"
   ]
  }
 ],
 "metadata": {
  "kernelspec": {
   "display_name": "Python 3 (ipykernel)",
   "language": "python",
   "name": "python3"
  },
  "language_info": {
   "codemirror_mode": {
    "name": "ipython",
    "version": 3
   },
   "file_extension": ".py",
   "mimetype": "text/x-python",
   "name": "python",
   "nbconvert_exporter": "python",
   "pygments_lexer": "ipython3",
   "version": "3.10.4"
  }
 },
 "nbformat": 4,
 "nbformat_minor": 5
}
