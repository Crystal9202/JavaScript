{
 "cells": [
  {
   "cell_type": "markdown",
   "id": "4ec74e32",
   "metadata": {},
   "source": [
    "# JavaScript 的for 循環"
   ]
  },
  {
   "cell_type": "raw",
   "id": "a9bab6bc",
   "metadata": {},
   "source": [
    "循環可以將代碼塊執行指定的次數。"
   ]
  },
  {
   "cell_type": "raw",
   "id": "84ec7e9b",
   "metadata": {},
   "source": [
    "如果您希望一遍又一遍地運行相同的代碼，並且每次的值都不同，那麽使用循環是很方便的。我們可以這樣輸出數組的值："
   ]
  },
  {
   "cell_type": "markdown",
   "id": "4d7d6eab",
   "metadata": {},
   "source": [
    "## 一般寫法"
   ]
  },
  {
   "cell_type": "code",
   "execution_count": null,
   "id": "2c6ae706",
   "metadata": {},
   "outputs": [],
   "source": [
    "document.write(cars[0] + \"<br>\");\n",
    "document.write(cars[1] + \"<br>\");\n",
    "document.write(cars[2] + \"<br>\"); \n",
    "document.write(cars[3] + \"<br>\"); \n",
    "document.write(cars[4] + \"<br>\"); \n",
    "document.write(cars[5] + \"<br>\");"
   ]
  },
  {
   "cell_type": "markdown",
   "id": "f697aa00",
   "metadata": {},
   "source": [
    "## 使用 for 循環"
   ]
  },
  {
   "cell_type": "code",
   "execution_count": null,
   "id": "cd72a146",
   "metadata": {},
   "outputs": [],
   "source": [
    "for (var i=0;i<cars.length;i++)\n",
    "{\n",
    "    document.write(cars[i] + \"<br>\");\n",
    "}"
   ]
  },
  {
   "cell_type": "code",
   "execution_count": null,
   "id": "54a84be7",
   "metadata": {},
   "outputs": [],
   "source": [
    "<!DOCTYPE html>\n",
    "<html>\n",
    "\n",
    "<head>\n",
    "    <meta charset=\"utf-8\">\n",
    "    <title>菜鳥教程</title>\n",
    "</head>\n",
    "\n",
    "<body>\n",
    "\n",
    "    <script>\n",
    "        cars = [\"BMW\" , \"Volvo\" , \"Saab\" ,\"Ford\"]\n",
    "        for (var i =0;i <cars.length; i++){\n",
    "            document.write(cars[i] + \"<br>\");\n",
    "        }\n",
    "    </script>\n",
    "\n",
    "</body>\n",
    "\n",
    "</html>"
   ]
  },
  {
   "cell_type": "markdown",
   "id": "2d9029a8",
   "metadata": {},
   "source": [
    "## 不同類型的循環"
   ]
  },
  {
   "cell_type": "code",
   "execution_count": null,
   "id": "d3124a38",
   "metadata": {},
   "outputs": [],
   "source": [
    "JavaScript 支持不同類型的循環 :"
   ]
  },
  {
   "cell_type": "code",
   "execution_count": null,
   "id": "b7116cb2",
   "metadata": {},
   "outputs": [],
   "source": [
    "for - 循環代碼塊一定的次數\n",
    "for/in - 循環遍歷對象的屬性\n",
    "while - 當指定的條件為 true 時循環指定的代碼塊\n",
    "do/while - 同樣當指定的條件為 true 時循環指定的代碼塊"
   ]
  },
  {
   "cell_type": "markdown",
   "id": "c8a62d73",
   "metadata": {},
   "source": [
    "## For 循環"
   ]
  },
  {
   "cell_type": "code",
   "execution_count": null,
   "id": "0e691937",
   "metadata": {},
   "outputs": [],
   "source": [
    "for 循環是您在希望創建循環時常會用到的工具。下面是 for 循環的語法: "
   ]
  },
  {
   "cell_type": "code",
   "execution_count": null,
   "id": "bbb65950",
   "metadata": {},
   "outputs": [],
   "source": [
    "for (語句 1; 語句 2 ; 語句 3)\n",
    "{\n",
    "    被執行的代碼塊\n",
    "}"
   ]
  },
  {
   "cell_type": "code",
   "execution_count": null,
   "id": "6ac01e35",
   "metadata": {},
   "outputs": [],
   "source": [
    "語句 1: (代碼塊)開始前執行\n",
    "語句 2: 定義運行循環(代碼塊)得條件\n",
    "語句 3: 在循環(代碼塊) 已被執行之後執行"
   ]
  },
  {
   "cell_type": "code",
   "execution_count": null,
   "id": "4498007c",
   "metadata": {},
   "outputs": [],
   "source": [
    "<!DOCTYPE html>\n",
    "<html>\n",
    "\n",
    "<head>\n",
    "    <meta charset=\"utf-8\">\n",
    "    <title>菜鳥教程</title>\n",
    "</head>\n",
    "\n",
    "<body>\n",
    "\n",
    "    <p>點擊按鈕循環代碼5次。</p>\n",
    "    <button onclick=\"myFunction()\">點擊這裏</button>\n",
    "    <p id=\"demo\"></p>\n",
    "    <script>\n",
    "        function myFunction(){\n",
    "            var x = \"\" ;\n",
    "            for (var i = 0 ;i < 5 ; i++){\n",
    "                x = x + \"改數字為 \" + i + \"<br>\";\n",
    "            }\n",
    "            document.getElementById(\"demo\").innerHTML = x ;\n",
    "        }\n",
    "    </script>\n",
    "\n",
    "</body>\n",
    "\n",
    "</html>"
   ]
  },
  {
   "cell_type": "code",
   "execution_count": null,
   "id": "64cb452a",
   "metadata": {},
   "outputs": [],
   "source": [
    "從上面的例子中，您可以看到 :\n",
    "\n",
    "    "
   ]
  },
  {
   "cell_type": "code",
   "execution_count": null,
   "id": "2e3dd637",
   "metadata": {},
   "outputs": [],
   "source": []
  },
  {
   "cell_type": "code",
   "execution_count": null,
   "id": "21e6585c",
   "metadata": {},
   "outputs": [],
   "source": []
  },
  {
   "cell_type": "code",
   "execution_count": null,
   "id": "6283e257",
   "metadata": {},
   "outputs": [],
   "source": []
  },
  {
   "cell_type": "code",
   "execution_count": null,
   "id": "852d0be2",
   "metadata": {},
   "outputs": [],
   "source": []
  },
  {
   "cell_type": "code",
   "execution_count": null,
   "id": "11e8ad61",
   "metadata": {},
   "outputs": [],
   "source": []
  },
  {
   "cell_type": "code",
   "execution_count": null,
   "id": "68704d83",
   "metadata": {},
   "outputs": [],
   "source": []
  },
  {
   "cell_type": "code",
   "execution_count": null,
   "id": "a295b9d9",
   "metadata": {},
   "outputs": [],
   "source": []
  },
  {
   "cell_type": "code",
   "execution_count": null,
   "id": "2c8cf4ae",
   "metadata": {},
   "outputs": [],
   "source": []
  }
 ],
 "metadata": {
  "kernelspec": {
   "display_name": "Python 3 (ipykernel)",
   "language": "python",
   "name": "python3"
  },
  "language_info": {
   "codemirror_mode": {
    "name": "ipython",
    "version": 3
   },
   "file_extension": ".py",
   "mimetype": "text/x-python",
   "name": "python",
   "nbconvert_exporter": "python",
   "pygments_lexer": "ipython3",
   "version": "3.10.4"
  }
 },
 "nbformat": 4,
 "nbformat_minor": 5
}
