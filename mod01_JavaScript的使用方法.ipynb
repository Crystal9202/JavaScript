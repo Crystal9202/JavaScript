{
 "cells": [
  {
   "cell_type": "markdown",
   "id": "4e4dacaf",
   "metadata": {},
   "source": [
    "<h1>JavaScript用法</h1>"
   ]
  },
  {
   "cell_type": "raw",
   "id": "f66d3143",
   "metadata": {},
   "source": [
    "HTML 中的Javascript 腳本代碼必須位於 <script> 與 </script> 標籤之間 。JavaScript 腳本代碼可被放置在 HTML頁面的 <body> 和 <head> 部分中。"
   ]
  },
  {
   "cell_type": "markdown",
   "id": "2aca0897",
   "metadata": {},
   "source": [
    "<h1>script標籤</h1>"
   ]
  },
  {
   "cell_type": "raw",
   "id": "5f30a1ce",
   "metadata": {},
   "source": [
    "如需在 HTML 頁面中插入 JavaScript， 請使用<script> 標籤 。<script> 和 </script> 會告訴 JavaScript 在何處開始和結束。<script> 和 </script> 之間的代碼行包含了 JavaScript :"
   ]
  },
  {
   "cell_type": "code",
   "execution_count": null,
   "id": "8a473d27",
   "metadata": {},
   "outputs": [],
   "source": [
    "<script>\n",
    "alert(\"我的第一個 JavaScript\") ;\n",
    "</script>"
   ]
  },
  {
   "cell_type": "raw",
   "id": "a7bc9ec1",
   "metadata": {},
   "source": [
    "那些老舊的實例可能會在 <script> 標簽中使用 type=\"text/javascript\"。現在已經不必這樣做了。JavaScript 是所有現代瀏覽器以及 HTML5 中的默認腳本語言。"
   ]
  },
  {
   "cell_type": "markdown",
   "id": "32159c04",
   "metadata": {},
   "source": [
    "<h1>body 中的JavaScript</h1>"
   ]
  },
  {
   "cell_type": "raw",
   "id": "c40cf9b9",
   "metadata": {},
   "source": [
    "在本例中，JavaScript 會在頁面加載時向 HTML 的 <body> 寫文本："
   ]
  },
  {
   "cell_type": "code",
   "execution_count": null,
   "id": "cdd92d18",
   "metadata": {},
   "outputs": [],
   "source": [
    "<!DOCTYPE html>\n",
    "<html>\n",
    "<head>\n",
    "    <meta charset=\"utf-8\">\n",
    "    <title>菜鸟教程(runoob.com)</title>\n",
    "</head>\n",
    "<body>\n",
    "\n",
    "    <p>JavaScript 能夠直接寫入 HTML 輸出流中 :</p>\n",
    "    <script>\n",
    "    document.write(\"<h1>這是一個標題</h1>\")\n",
    "    document.write(\"<p>這是一個段落</p>\")\n",
    "    </script>\n",
    "\n",
    "    <p>\n",
    "    您只能在 HTML 輸出流中使用 <strong>document.write</strong>。如果您在文檔已加載後使用它(比如在函數中)，會覆蓋整個文檔。\n",
    "    </p>\n",
    "    \n",
    "</body>\n",
    "</html>"
   ]
  },
  {
   "cell_type": "markdown",
   "id": "d1e69fc8",
   "metadata": {},
   "source": [
    "<h1>JavaScript 函數和事件</h1>"
   ]
  },
  {
   "cell_type": "raw",
   "id": "103a3dbc",
   "metadata": {},
   "source": [
    "上面例子中的 JavaScript 語句，會在頁面加載時執行，通常，我們需要在某個事件發生時執行代碼，比如當用戶點擊按鈕時。如果我們把 JavaScript 代碼放入函數中，就可以在事件發生時調用該函數，您將在稍後的章節學到更多有關 JavaScript 函數和事件的知識。"
   ]
  },
  {
   "cell_type": "markdown",
   "id": "aae1c920",
   "metadata": {},
   "source": [
    "<h1>在 head 或者 body 的 JavaScript</h1>"
   ]
  },
  {
   "cell_type": "raw",
   "id": "7469a628",
   "metadata": {},
   "source": [
    "您可以在 HTML 文檔中放入不限數量的腳本。腳本可位於 HTML 的 <body> 或 <head> 部分中，或者同時存在於兩個部分中。通常的做法是把函數放入 <head> 部分中，或者放在頁面底部。這樣就可以把它們安置在同一處位置，不會干擾頁面的內容。"
   ]
  },
  {
   "cell_type": "markdown",
   "id": "7e618a50",
   "metadata": {},
   "source": [
    "<h2>在 head 中的JavaScript 函數</h2>"
   ]
  },
  {
   "cell_type": "raw",
   "id": "6ac5fe20",
   "metadata": {},
   "source": [
    "在本例中，我們把一個 JavaScript 函數放置到 HTML 頁面的 <head>部分，該函數會在點擊按鈕時被調用:"
   ]
  },
  {
   "cell_type": "code",
   "execution_count": null,
   "id": "74525000",
   "metadata": {},
   "outputs": [],
   "source": [
    "<!DOCTYPE html>\n",
    "<html>\n",
    "\n",
    "<head>\n",
    "    <meta charset=\"utf-8\">\n",
    "    <title>菜鳥教程</title>\n",
    "    <script>\n",
    "        function myFunction(){\n",
    "            document.getElementById(\"demo\").innerHTML = \"我的第一個JavaScript函數\";\n",
    "        }\n",
    "    </script>\n",
    "</head>\n",
    "\n",
    "<body>\n",
    "   <h1>我的Web頁面</h1>\n",
    "   <p id=\"demo\">一個段落</p>\n",
    "   <button type=\"button\" onclick=\"myFunction()\">點擊這裡</button> \n",
    "</body>\n",
    "</html>"
   ]
  },
  {
   "cell_type": "markdown",
   "id": "d9f9da20",
   "metadata": {},
   "source": [
    "<h2>在 body 中的JavaScript函數</h2>"
   ]
  },
  {
   "cell_type": "raw",
   "id": "d1cb14c0",
   "metadata": {},
   "source": [
    "在本例中，我們把一個 JavaScript 函數放置到 HTML 頁面的 <body>部分，該函數會在點擊按鈕時被調用:"
   ]
  },
  {
   "cell_type": "code",
   "execution_count": null,
   "id": "16045a67",
   "metadata": {},
   "outputs": [],
   "source": [
    "<!DOCTYPE html>\n",
    "<html>\n",
    "<head> \n",
    "<meta charset=\"utf-8\"> \n",
    "<title>菜鸟教程(runoob.com)</title> \n",
    "</head>\n",
    "<body>\n",
    "\n",
    "    <h1>我的第一個Web頁面</h1>\n",
    "    <p id=\"demo\">一個段落</p>\n",
    "    <button type=\"button\" onclick=\"myFunction()\">點擊這裡</button>\n",
    "\n",
    "    <script>\n",
    "        function myFunction(){\n",
    "            document.getElementById(\"demo\").innerHTML = \"我的第一個JavaScript函數\" ;\n",
    "        }\n",
    "    </script>\n",
    "</body>\n",
    "</html>"
   ]
  },
  {
   "cell_type": "markdown",
   "id": "d06c71ee",
   "metadata": {},
   "source": [
    "<h1>外部的 JavaScript</h1>"
   ]
  },
  {
   "cell_type": "raw",
   "id": "65155e35",
   "metadata": {},
   "source": [
    "也可以把腳本保存到外部文件中，外部文件通常包含被多個網頁使用的代碼。外部 JavaScript 文件的文件擴展名是 .js。如需使用外部文件，請在<script> 標籤的 \"src\" 屬性中設置該 .js 文件"
   ]
  },
  {
   "cell_type": "code",
   "execution_count": null,
   "id": "ae3c9000",
   "metadata": {},
   "outputs": [],
   "source": [
    "<!DOCTYPE html>\n",
    "<html>\n",
    "<head> \n",
    "    <meta charset=\"utf-8\"> \n",
    "    <title>菜鸟教程(runoob.com)</title> \n",
    "</head>\n",
    "\n",
    "<body>\n",
    "\n",
    "    <h1>我的 Web 页面</h1>\n",
    "    <p id=\"demo\">一个段落。</p>\n",
    "    <button type=\"button\" onclick=\"myFunction()\">点击这里</button>\n",
    "    <p><b>注釋:</b>myFunction 保存在名為 \"myScript.js\" 的外部文件中。</p>\n",
    "    <script src=\"myScript.js\"></script>\n",
    "\n",
    "</body>\n",
    "</html>"
   ]
  },
  {
   "cell_type": "raw",
   "id": "0ccb56a7",
   "metadata": {},
   "source": [
    "你可以將腳本放置於 <head> 或者 <body>中，放在 <script> 標籤中的腳本與外部引用的腳本運行效果完全一致。myScript.js 文件代碼如下 :"
   ]
  },
  {
   "cell_type": "code",
   "execution_count": null,
   "id": "e6239e55",
   "metadata": {},
   "outputs": [],
   "source": [
    "function myFunction()\n",
    "{\n",
    "    document.getElementById(\"demo\").innerHTML=\"我的第一个 JavaScript 函数\";\n",
    "}"
   ]
  },
  {
   "cell_type": "raw",
   "id": "8535bb22",
   "metadata": {},
   "source": [
    "注意外部腳本不能包含 <script> 標籤。"
   ]
  }
 ],
 "metadata": {
  "kernelspec": {
   "display_name": "Python 3 (ipykernel)",
   "language": "python",
   "name": "python3"
  },
  "language_info": {
   "codemirror_mode": {
    "name": "ipython",
    "version": 3
   },
   "file_extension": ".py",
   "mimetype": "text/x-python",
   "name": "python",
   "nbconvert_exporter": "python",
   "pygments_lexer": "ipython3",
   "version": "3.10.4"
  }
 },
 "nbformat": 4,
 "nbformat_minor": 5
}
