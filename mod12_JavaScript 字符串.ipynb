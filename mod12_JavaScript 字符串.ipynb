{
 "cells": [
  {
   "cell_type": "markdown",
   "id": "a24e247f",
   "metadata": {},
   "source": [
    "# JavaScript 字符串"
   ]
  },
  {
   "cell_type": "raw",
   "id": "42766c54",
   "metadata": {},
   "source": [
    "JavaScript 字符串用於存儲和處理文本。"
   ]
  },
  {
   "cell_type": "code",
   "execution_count": null,
   "id": "674e7e64",
   "metadata": {},
   "outputs": [],
   "source": [
    "字符串可以存儲一系列字符，如 \"John Doe\" 。字符串可以是插入到引號中的任何字符。你可以使用單引號或雙引號:"
   ]
  },
  {
   "cell_type": "code",
   "execution_count": null,
   "id": "216566e1",
   "metadata": {},
   "outputs": [],
   "source": [
    "var carname = \"Volvo XC60\";\n",
    "var carname = 'Volco XC60';"
   ]
  },
  {
   "cell_type": "code",
   "execution_count": null,
   "id": "bf867d7c",
   "metadata": {},
   "outputs": [],
   "source": [
    "你可以使用索引位置來訪問字符串中的每個字符:"
   ]
  },
  {
   "cell_type": "code",
   "execution_count": null,
   "id": "2edd7cfd",
   "metadata": {},
   "outputs": [],
   "source": [
    "var character = carname[7];"
   ]
  },
  {
   "cell_type": "raw",
   "id": "bd27e34f",
   "metadata": {},
   "source": [
    "字符串的索引從 0 開始，這意味著第一個字符索引值為 [0] , 第二個為 [1] , 以此類推。你可以在字符串中使用引號，字符串中的引號不要與字符串的引號相同:"
   ]
  },
  {
   "cell_type": "code",
   "execution_count": null,
   "id": "1ccd5472",
   "metadata": {},
   "outputs": [],
   "source": [
    "var answer = \"It's alright\";\n",
    "var answer = \"He is called 'Johnny'\";\n",
    "var answer = 'He is called \"Johnny\"';"
   ]
  },
  {
   "cell_type": "raw",
   "id": "001a075c",
   "metadata": {},
   "source": [
    "你也可以在字符串中添加轉義字符來使用符號: "
   ]
  },
  {
   "cell_type": "code",
   "execution_count": null,
   "id": "83557985",
   "metadata": {},
   "outputs": [],
   "source": [
    "var x = 'It\\s alright';\n",
    "var y = \"He is called \\\"Johnny\\\"\";"
   ]
  },
  {
   "cell_type": "markdown",
   "id": "c73b7140",
   "metadata": {},
   "source": [
    "# 字符串長度"
   ]
  },
  {
   "cell_type": "code",
   "execution_count": null,
   "id": "e8d6896c",
   "metadata": {},
   "outputs": [],
   "source": [
    "可以使用內置屬性 length 來計算字符串的長度："
   ]
  },
  {
   "cell_type": "code",
   "execution_count": null,
   "id": "64ded17c",
   "metadata": {},
   "outputs": [],
   "source": [
    "<!DOCTYPE html>\n",
    "<html>\n",
    "\n",
    "<head>\n",
    "    <meta charset=\"utf-8\">\n",
    "    <title>菜鳥教程</title>\n",
    "</head>\n",
    "\n",
    "<body>\n",
    "\n",
    "    <script>\n",
    "        var txt = \"Hello World!\";\n",
    "        document.write(\"<p>\" + txt.length + \"</p>\");    #12\n",
    "        var txt = \"ABCDEFGHIJKLMNOPQRSTUVWXYZ\";\n",
    "        document.write(\"<p>\" + txt.length + \"</p>\");    #26\n",
    "    </script>\n",
    "\n",
    "</body>\n",
    "\n",
    "</html>"
   ]
  },
  {
   "cell_type": "markdown",
   "id": "e9848fb0",
   "metadata": {},
   "source": [
    "# 特殊字符"
   ]
  },
  {
   "cell_type": "code",
   "execution_count": null,
   "id": "57673148",
   "metadata": {},
   "outputs": [],
   "source": [
    "在 JavaScript 中，字符串寫在單引號或雙引號中。因為這樣以下實例 JavaScript 無法解析:"
   ]
  },
  {
   "cell_type": "code",
   "execution_count": null,
   "id": "c1665be5",
   "metadata": {},
   "outputs": [],
   "source": [
    "\"We are the so-called \"Vikings\" from the north.\""
   ]
  },
  {
   "cell_type": "raw",
   "id": "fc39f549",
   "metadata": {},
   "source": [
    "字符串 \"We are the so-called \" 被截斷。如何解決以上的問題呢？可以使用反斜杠 (\\) 來轉義 \"Vikings\" 字符串中的雙引號，如下:"
   ]
  },
  {
   "cell_type": "code",
   "execution_count": null,
   "id": "63fef9b3",
   "metadata": {},
   "outputs": [],
   "source": [
    "\"We are the so-called \\\"Vikings\\\" from the north.\""
   ]
  },
  {
   "cell_type": "raw",
   "id": "2aae1a1e",
   "metadata": {},
   "source": [
    "反斜杠 是一個轉義字符。 轉義字符將特殊字符轉換為字符串字符 :  轉義字符(\\) 可以用於轉義撇號，換行，引號，等其他特殊字符。 下表中列舉了在字符串中可以使用轉義字符轉義的特殊字符:"
   ]
  },
  {
   "cell_type": "raw",
   "id": "58a383f9",
   "metadata": {},
   "source": [
    "代碼\t      輸出\n",
    "\n",
    "\\'\t        單引號\n",
    "\\\"\t        雙引號\n",
    "\\\\\t        反斜杠\n",
    "\\n\t        換行\n",
    "\\r\t        回車\n",
    "\\t\t        tab(制表符)\n",
    "\\b\t        退格符\n",
    "\\f\t        換頁符"
   ]
  },
  {
   "cell_type": "markdown",
   "id": "95566743",
   "metadata": {},
   "source": [
    "# 字符串可以是對象"
   ]
  },
  {
   "cell_type": "raw",
   "id": "620432f0",
   "metadata": {},
   "source": [
    "通常 JavaScript 字符串是原始值，可以使用字符創建： var firstName = \"John\"\n",
    "但我們也可以使用 new 關鍵字將字符串定義為一個對象： var firstName = new String(\"John\")"
   ]
  },
  {
   "cell_type": "code",
   "execution_count": null,
   "id": "13d9a752",
   "metadata": {},
   "outputs": [],
   "source": [
    "<!DOCTYPE html>\n",
    "<html>\n",
    "\n",
    "<head>\n",
    "    <meta charset=\"utf-8\">\n",
    "    <title>菜鳥教程</title>\n",
    "</head>\n",
    "\n",
    "<body>\n",
    "\n",
    "    <p id=\"demo\"></p>\n",
    "    <script>\n",
    "        var x = \"John\";\n",
    "        var y = new String(\"John\");\n",
    "        document.getElementById(\"demo\").innerHTML = typeof x + \" \" + typeof y ;\n",
    "    </script>\n",
    "\n",
    "</body>\n",
    "\n",
    "</html>"
   ]
  },
  {
   "cell_type": "raw",
   "id": "86ffdd13",
   "metadata": {},
   "source": [
    "不要創建 String 對象。它會拖慢執行速度，並可能產生其他副作用: "
   ]
  },
  {
   "cell_type": "code",
   "execution_count": null,
   "id": "b610372c",
   "metadata": {},
   "outputs": [],
   "source": [
    "<!DOCTYPE html>\n",
    "<html>\n",
    "\n",
    "<head>\n",
    "    <meta charset=\"utf-8\">\n",
    "    <title>菜鳥教程</title>\n",
    "</head>\n",
    "\n",
    "<body>\n",
    "\n",
    "    <p id=\"demo\"></p>\n",
    "    <script>\n",
    "        var x = \"John\";              // x 是字符串\n",
    "        var y = new String(\"John\");  // y 是一個對象\n",
    "    </script>\n",
    "    <p>=== 為絕對相等，即數據類型與值都必須相等。</p>\n",
    "\n",
    "</body>\n",
    "\n",
    "</html>"
   ]
  },
  {
   "cell_type": "code",
   "execution_count": null,
   "id": "0afd24a3",
   "metadata": {},
   "outputs": [],
   "source": [
    "=== 為絕對相等，即數據類型與值都必須相等。"
   ]
  },
  {
   "cell_type": "markdown",
   "id": "aaaf6468",
   "metadata": {},
   "source": [
    "# 字符串屬性和方法"
   ]
  },
  {
   "cell_type": "raw",
   "id": "faec63d9",
   "metadata": {},
   "source": [
    "原始值字符串，如 \"John\", 沒有屬性和方法(因為他們不是對象)。原始值可以使用 JavaScript 的屬性和方法，因為 JavaScript 在執行方法和屬性時可以把原始值當作對象。字符串方法我們將在下一章節中介紹。"
   ]
  },
  {
   "cell_type": "markdown",
   "id": "7b6e837d",
   "metadata": {},
   "source": [
    "# 字符串屬性"
   ]
  },
  {
   "attachments": {
    "1.png": {
     "image/png": "[encoded data removed]"
    }
   },
   "cell_type": "markdown",
   "id": "3cb54823",
   "metadata": {},
   "source": [
    "![1.png](attachment:1.png)"
   ]
  },
  {
   "cell_type": "markdown",
   "id": "2eddc4b2",
   "metadata": {},
   "source": [
    "# 字符串方法"
   ]
  },
  {
   "cell_type": "markdown",
   "id": "c4ac1b5d",
   "metadata": {},
   "source": [
    "更多方法實例可以參見：JavaScript String 對象"
   ]
  },
  {
   "attachments": {
    "2.png": {
     "image/png": "[encoded data removed]"
    }
   },
   "cell_type": "markdown",
   "id": "c166651e",
   "metadata": {},
   "source": [
    "![2.png](attachment:2.png)\n"
   ]
  },
  {
   "cell_type": "markdown",
   "id": "d90bcd07",
   "metadata": {},
   "source": [
    "# Template Literals"
   ]
  },
  {
   "cell_type": "raw",
   "id": "6bfde616",
   "metadata": {},
   "source": [
    "Template Literals use back-ticks (``) rather than the quotes (\"\") to define a string:"
   ]
  },
  {
   "cell_type": "raw",
   "id": "47643121",
   "metadata": {},
   "source": [
    "let text = `Hello World!`;"
   ]
  },
  {
   "cell_type": "raw",
   "id": "de197ab7",
   "metadata": {},
   "source": [
    "With template literals, you can use both single and double quotes inside a string:"
   ]
  },
  {
   "cell_type": "code",
   "execution_count": null,
   "id": "4a73ded5",
   "metadata": {},
   "outputs": [],
   "source": [
    "let text = `He's often called \"Johnny\"`;"
   ]
  },
  {
   "cell_type": "markdown",
   "id": "ce570a68",
   "metadata": {},
   "source": [
    "## Multiline Strings"
   ]
  },
  {
   "cell_type": "raw",
   "id": "cd65be17",
   "metadata": {},
   "source": [
    "Template literals allows multiline strings:"
   ]
  },
  {
   "cell_type": "code",
   "execution_count": null,
   "id": "71393d25",
   "metadata": {},
   "outputs": [],
   "source": [
    "<!DOCTYPE html>\n",
    "<html>\n",
    "\n",
    "<body>\n",
    "\n",
    "    <h2>JavaScript Template Literals</h2>\n",
    "\n",
    "    <p>Template literals allows multiline strings:</p>\n",
    "\n",
    "    <p id=\"demo\"></p>\n",
    "\n",
    "    <p>Template literals are not supported in Internet Explorer.</p>\n",
    "\n",
    "    <script>\n",
    "        let text =\n",
    "            `The quick\n",
    "             brown fox\n",
    "             jumps over\n",
    "             the lazy dog`;\n",
    "                \n",
    "        console.log(text);\n",
    "        document.getElementById(\"demo\").innerHTML = text;\n",
    "    </script>\n",
    "\n",
    "</body>\n",
    "\n",
    "</html>"
   ]
  },
  {
   "cell_type": "markdown",
   "id": "3e348797",
   "metadata": {},
   "source": [
    "## Interpolation"
   ]
  },
  {
   "cell_type": "raw",
   "id": "a6104052",
   "metadata": {},
   "source": [
    "Template literals provide an easy way to interpolate variables and expressions into strings. The method is called string interpolation. The syntax is:"
   ]
  },
  {
   "cell_type": "raw",
   "id": "e94c78d8",
   "metadata": {},
   "source": [
    "${...}"
   ]
  },
  {
   "cell_type": "raw",
   "id": "e2b6640e",
   "metadata": {},
   "source": [
    "Template literals allow variables in strings:"
   ]
  },
  {
   "cell_type": "code",
   "execution_count": null,
   "id": "b10f89a6",
   "metadata": {},
   "outputs": [],
   "source": [
    "<!DOCTYPE html>\n",
    "<html>\n",
    "\n",
    "<body>\n",
    "\n",
    "    <h2>JavaScript Template Literals</h2>\n",
    "\n",
    "    <p>Template literals allows variables in strings:</p>\n",
    "\n",
    "    <p id=\"demo\"></p>\n",
    "\n",
    "    <p>Template literals are not supported in Internet Explorer.</p>\n",
    "\n",
    "    <script>\n",
    "        let firstName = \"John\";\n",
    "        let lastName = \"Doe\";\n",
    "\n",
    "        let text = `Welcome ${firstName}, ${lastName}!`;\n",
    "\n",
    "        document.getElementById(\"demo\").innerHTML = text;\n",
    "    </script>\n",
    "\n",
    "</body>\n",
    "\n",
    "</html>"
   ]
  },
  {
   "cell_type": "raw",
   "id": "e1306967",
   "metadata": {},
   "source": [
    "Template literals allow expressions in strings:"
   ]
  },
  {
   "cell_type": "code",
   "execution_count": null,
   "id": "3308a939",
   "metadata": {},
   "outputs": [],
   "source": [
    "<!DOCTYPE html>\n",
    "<html>\n",
    "\n",
    "<body>\n",
    "\n",
    "    <h2>JavaScript Template Literals</h2>\n",
    "\n",
    "    <p>Template literals allows variables in strings:</p>\n",
    "\n",
    "    <p id=\"demo\"></p>\n",
    "\n",
    "    <p>Template literals are not supported in Internet Explorer.</p>\n",
    "\n",
    "    <script>\n",
    "        let price = 10;\n",
    "        let VAT = 0.25;\n",
    "        let total = `Total: ${(price * (1 + VAT)).toFixed(2)}`;\n",
    "\n",
    "        document.getElementById(\"demo\").innerHTML = total;\n",
    "    </script>\n",
    "\n",
    "</body>\n",
    "\n",
    "</html>"
   ]
  },
  {
   "cell_type": "raw",
   "id": "a85920be",
   "metadata": {},
   "source": [
    "Automatic replacing of expressions with real values is called string interpolation."
   ]
  },
  {
   "cell_type": "markdown",
   "id": "ac8ed0d2",
   "metadata": {},
   "source": [
    "## HTML Templates"
   ]
  },
  {
   "cell_type": "code",
   "execution_count": null,
   "id": "ba88c4a7",
   "metadata": {},
   "outputs": [],
   "source": [
    "<!DOCTYPE html>\n",
    "<html>\n",
    "\n",
    "<body>\n",
    "\n",
    "    <h2>JavaScript Template Literals</h2>\n",
    "\n",
    "    <p>Template literals allows variables in strings:</p>\n",
    "\n",
    "    <p id=\"demo\"></p>\n",
    "\n",
    "    <p>Template literals are not supported in Internet Explorer.</p>\n",
    "\n",
    "    <script>\n",
    "        let header = \"Templates Literals\";\n",
    "        let tags = [\"template literals\", \"javascript\", \"es6\"];\n",
    "\n",
    "        let html = `<h2>${header}</h2><ul>`;\n",
    "\n",
    "        for (const x of tags) {\n",
    "            html += `<li>${x}</li>`;\n",
    "        }\n",
    "\n",
    "        html += `</ul>`;\n",
    "        document.getElementById(\"demo\").innerHTML = html;\n",
    "    </script>\n",
    "\n",
    "</body>"
   ]
  },
  {
   "cell_type": "markdown",
   "id": "cf50e63d",
   "metadata": {},
   "source": [
    "## Type coercion"
   ]
  },
  {
   "cell_type": "raw",
   "id": "304881af",
   "metadata": {},
   "source": [
    "Type coercion is the automatic or implicit conversion of values from one data type to another (such as strings to numbers). Type conversion is similar to type coercion because they both convert values from one data type to another with one key difference — type coercion is implicit whereas type conversion can be either implicit or explicit."
   ]
  },
  {
   "cell_type": "markdown",
   "id": "cc06ef89",
   "metadata": {},
   "source": [
    "## 範例"
   ]
  },
  {
   "cell_type": "code",
   "execution_count": null,
   "id": "c8ab63bc",
   "metadata": {},
   "outputs": [],
   "source": [
    "const value1 = \"5\";\n",
    "const value2 = 9;\n",
    "let sum = value1 + value2;\n",
    "\n",
    "// answer: \"59\"\n",
    "console.log(sum);"
   ]
  },
  {
   "cell_type": "code",
   "execution_count": null,
   "id": "9143f4fc",
   "metadata": {},
   "outputs": [],
   "source": [
    "const value1 = \"5\";\n",
    "const value2 = 9;\n",
    "let sum = value1 - value2;\n",
    "\n",
    "// answer: -4\n",
    "console.log(sum);"
   ]
  },
  {
   "cell_type": "raw",
   "id": "a265524c",
   "metadata": {},
   "source": [
    "In the above example, JavaScript has coerced the 9 from a number into a string and then concatenated the two values together, resulting in a string of 59. JavaScript had a choice between a string or a number and decided to use a string.\n",
    "\n",
    "The compiler could have coerced the 5 into a number and returned a sum of 14, but it did not. To return this result, you'd have to explicitly convert the 5 to a number using the Number() method:"
   ]
  },
  {
   "cell_type": "raw",
   "id": "4d3c3446",
   "metadata": {},
   "source": [
    "sum = Number(value1) + value2;"
   ]
  }
 ],
 "metadata": {
  "kernelspec": {
   "display_name": "Python 3 (ipykernel)",
   "language": "python",
   "name": "python3"
  },
  "language_info": {
   "codemirror_mode": {
    "name": "ipython",
    "version": 3
   },
   "file_extension": ".py",
   "mimetype": "text/x-python",
   "name": "python",
   "nbconvert_exporter": "python",
   "pygments_lexer": "ipython3",
   "version": "3.10.4"
  }
 },
 "nbformat": 4,
 "nbformat_minor": 5
}
